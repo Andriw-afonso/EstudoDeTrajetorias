{
  "nbformat": 4,
  "nbformat_minor": 0,
  "metadata": {
    "colab": {
      "provenance": [],
      "collapsed_sections": [
        "zaCl_FEpiDv5"
      ]
    },
    "kernelspec": {
      "name": "python3",
      "display_name": "Python 3"
    },
    "language_info": {
      "name": "python"
    },
    "widgets": {
      "application/vnd.jupyter.widget-state+json": {
        "48db08f8d6c24d91b7005b26a2fc5826": {
          "model_module": "@jupyter-widgets/controls",
          "model_name": "HBoxModel",
          "model_module_version": "1.5.0",
          "state": {
            "_dom_classes": [],
            "_model_module": "@jupyter-widgets/controls",
            "_model_module_version": "1.5.0",
            "_model_name": "HBoxModel",
            "_view_count": null,
            "_view_module": "@jupyter-widgets/controls",
            "_view_module_version": "1.5.0",
            "_view_name": "HBoxView",
            "box_style": "",
            "children": [
              "IPY_MODEL_6933a2602e5f49938fc49b3e70d37dd0",
              "IPY_MODEL_9934331204c644cea0ee03e51b393ee5",
              "IPY_MODEL_ecedc1a3d37547b08d74fd922c7c6da9"
            ],
            "layout": "IPY_MODEL_a9d6a97159e1452ba93302ec42dec5c4"
          }
        },
        "6933a2602e5f49938fc49b3e70d37dd0": {
          "model_module": "@jupyter-widgets/controls",
          "model_name": "HTMLModel",
          "model_module_version": "1.5.0",
          "state": {
            "_dom_classes": [],
            "_model_module": "@jupyter-widgets/controls",
            "_model_module_version": "1.5.0",
            "_model_name": "HTMLModel",
            "_view_count": null,
            "_view_module": "@jupyter-widgets/controls",
            "_view_module_version": "1.5.0",
            "_view_name": "HTMLView",
            "description": "",
            "description_tooltip": null,
            "layout": "IPY_MODEL_81f91ec0545947ceae52dbc87e6d3573",
            "placeholder": "​",
            "style": "IPY_MODEL_7996bc0e1ca3441eb204c4256c744efd",
            "value": "100%"
          }
        },
        "9934331204c644cea0ee03e51b393ee5": {
          "model_module": "@jupyter-widgets/controls",
          "model_name": "FloatProgressModel",
          "model_module_version": "1.5.0",
          "state": {
            "_dom_classes": [],
            "_model_module": "@jupyter-widgets/controls",
            "_model_module_version": "1.5.0",
            "_model_name": "FloatProgressModel",
            "_view_count": null,
            "_view_module": "@jupyter-widgets/controls",
            "_view_module_version": "1.5.0",
            "_view_name": "ProgressView",
            "bar_style": "success",
            "description": "",
            "description_tooltip": null,
            "layout": "IPY_MODEL_9917b36a2c08460e9e37be0230b5b53b",
            "max": 4795,
            "min": 0,
            "orientation": "horizontal",
            "style": "IPY_MODEL_4b983f42b4224e66879b7da41cf129e3",
            "value": 4795
          }
        },
        "ecedc1a3d37547b08d74fd922c7c6da9": {
          "model_module": "@jupyter-widgets/controls",
          "model_name": "HTMLModel",
          "model_module_version": "1.5.0",
          "state": {
            "_dom_classes": [],
            "_model_module": "@jupyter-widgets/controls",
            "_model_module_version": "1.5.0",
            "_model_name": "HTMLModel",
            "_view_count": null,
            "_view_module": "@jupyter-widgets/controls",
            "_view_module_version": "1.5.0",
            "_view_name": "HTMLView",
            "description": "",
            "description_tooltip": null,
            "layout": "IPY_MODEL_0374840a40a84f6eac1336c8d04322aa",
            "placeholder": "​",
            "style": "IPY_MODEL_9effbf0fb5c24bf5b9fafcfb7cff228d",
            "value": " 4795/4795 [00:08&lt;00:00, 590.81it/s]"
          }
        },
        "a9d6a97159e1452ba93302ec42dec5c4": {
          "model_module": "@jupyter-widgets/base",
          "model_name": "LayoutModel",
          "model_module_version": "1.2.0",
          "state": {
            "_model_module": "@jupyter-widgets/base",
            "_model_module_version": "1.2.0",
            "_model_name": "LayoutModel",
            "_view_count": null,
            "_view_module": "@jupyter-widgets/base",
            "_view_module_version": "1.2.0",
            "_view_name": "LayoutView",
            "align_content": null,
            "align_items": null,
            "align_self": null,
            "border": null,
            "bottom": null,
            "display": null,
            "flex": null,
            "flex_flow": null,
            "grid_area": null,
            "grid_auto_columns": null,
            "grid_auto_flow": null,
            "grid_auto_rows": null,
            "grid_column": null,
            "grid_gap": null,
            "grid_row": null,
            "grid_template_areas": null,
            "grid_template_columns": null,
            "grid_template_rows": null,
            "height": null,
            "justify_content": null,
            "justify_items": null,
            "left": null,
            "margin": null,
            "max_height": null,
            "max_width": null,
            "min_height": null,
            "min_width": null,
            "object_fit": null,
            "object_position": null,
            "order": null,
            "overflow": null,
            "overflow_x": null,
            "overflow_y": null,
            "padding": null,
            "right": null,
            "top": null,
            "visibility": null,
            "width": null
          }
        },
        "81f91ec0545947ceae52dbc87e6d3573": {
          "model_module": "@jupyter-widgets/base",
          "model_name": "LayoutModel",
          "model_module_version": "1.2.0",
          "state": {
            "_model_module": "@jupyter-widgets/base",
            "_model_module_version": "1.2.0",
            "_model_name": "LayoutModel",
            "_view_count": null,
            "_view_module": "@jupyter-widgets/base",
            "_view_module_version": "1.2.0",
            "_view_name": "LayoutView",
            "align_content": null,
            "align_items": null,
            "align_self": null,
            "border": null,
            "bottom": null,
            "display": null,
            "flex": null,
            "flex_flow": null,
            "grid_area": null,
            "grid_auto_columns": null,
            "grid_auto_flow": null,
            "grid_auto_rows": null,
            "grid_column": null,
            "grid_gap": null,
            "grid_row": null,
            "grid_template_areas": null,
            "grid_template_columns": null,
            "grid_template_rows": null,
            "height": null,
            "justify_content": null,
            "justify_items": null,
            "left": null,
            "margin": null,
            "max_height": null,
            "max_width": null,
            "min_height": null,
            "min_width": null,
            "object_fit": null,
            "object_position": null,
            "order": null,
            "overflow": null,
            "overflow_x": null,
            "overflow_y": null,
            "padding": null,
            "right": null,
            "top": null,
            "visibility": null,
            "width": null
          }
        },
        "7996bc0e1ca3441eb204c4256c744efd": {
          "model_module": "@jupyter-widgets/controls",
          "model_name": "DescriptionStyleModel",
          "model_module_version": "1.5.0",
          "state": {
            "_model_module": "@jupyter-widgets/controls",
            "_model_module_version": "1.5.0",
            "_model_name": "DescriptionStyleModel",
            "_view_count": null,
            "_view_module": "@jupyter-widgets/base",
            "_view_module_version": "1.2.0",
            "_view_name": "StyleView",
            "description_width": ""
          }
        },
        "9917b36a2c08460e9e37be0230b5b53b": {
          "model_module": "@jupyter-widgets/base",
          "model_name": "LayoutModel",
          "model_module_version": "1.2.0",
          "state": {
            "_model_module": "@jupyter-widgets/base",
            "_model_module_version": "1.2.0",
            "_model_name": "LayoutModel",
            "_view_count": null,
            "_view_module": "@jupyter-widgets/base",
            "_view_module_version": "1.2.0",
            "_view_name": "LayoutView",
            "align_content": null,
            "align_items": null,
            "align_self": null,
            "border": null,
            "bottom": null,
            "display": null,
            "flex": null,
            "flex_flow": null,
            "grid_area": null,
            "grid_auto_columns": null,
            "grid_auto_flow": null,
            "grid_auto_rows": null,
            "grid_column": null,
            "grid_gap": null,
            "grid_row": null,
            "grid_template_areas": null,
            "grid_template_columns": null,
            "grid_template_rows": null,
            "height": null,
            "justify_content": null,
            "justify_items": null,
            "left": null,
            "margin": null,
            "max_height": null,
            "max_width": null,
            "min_height": null,
            "min_width": null,
            "object_fit": null,
            "object_position": null,
            "order": null,
            "overflow": null,
            "overflow_x": null,
            "overflow_y": null,
            "padding": null,
            "right": null,
            "top": null,
            "visibility": null,
            "width": null
          }
        },
        "4b983f42b4224e66879b7da41cf129e3": {
          "model_module": "@jupyter-widgets/controls",
          "model_name": "ProgressStyleModel",
          "model_module_version": "1.5.0",
          "state": {
            "_model_module": "@jupyter-widgets/controls",
            "_model_module_version": "1.5.0",
            "_model_name": "ProgressStyleModel",
            "_view_count": null,
            "_view_module": "@jupyter-widgets/base",
            "_view_module_version": "1.2.0",
            "_view_name": "StyleView",
            "bar_color": null,
            "description_width": ""
          }
        },
        "0374840a40a84f6eac1336c8d04322aa": {
          "model_module": "@jupyter-widgets/base",
          "model_name": "LayoutModel",
          "model_module_version": "1.2.0",
          "state": {
            "_model_module": "@jupyter-widgets/base",
            "_model_module_version": "1.2.0",
            "_model_name": "LayoutModel",
            "_view_count": null,
            "_view_module": "@jupyter-widgets/base",
            "_view_module_version": "1.2.0",
            "_view_name": "LayoutView",
            "align_content": null,
            "align_items": null,
            "align_self": null,
            "border": null,
            "bottom": null,
            "display": null,
            "flex": null,
            "flex_flow": null,
            "grid_area": null,
            "grid_auto_columns": null,
            "grid_auto_flow": null,
            "grid_auto_rows": null,
            "grid_column": null,
            "grid_gap": null,
            "grid_row": null,
            "grid_template_areas": null,
            "grid_template_columns": null,
            "grid_template_rows": null,
            "height": null,
            "justify_content": null,
            "justify_items": null,
            "left": null,
            "margin": null,
            "max_height": null,
            "max_width": null,
            "min_height": null,
            "min_width": null,
            "object_fit": null,
            "object_position": null,
            "order": null,
            "overflow": null,
            "overflow_x": null,
            "overflow_y": null,
            "padding": null,
            "right": null,
            "top": null,
            "visibility": null,
            "width": null
          }
        },
        "9effbf0fb5c24bf5b9fafcfb7cff228d": {
          "model_module": "@jupyter-widgets/controls",
          "model_name": "DescriptionStyleModel",
          "model_module_version": "1.5.0",
          "state": {
            "_model_module": "@jupyter-widgets/controls",
            "_model_module_version": "1.5.0",
            "_model_name": "DescriptionStyleModel",
            "_view_count": null,
            "_view_module": "@jupyter-widgets/base",
            "_view_module_version": "1.2.0",
            "_view_name": "StyleView",
            "description_width": ""
          }
        },
        "b0a94dc75f014741b1a34312ad9cab0b": {
          "model_module": "@jupyter-widgets/controls",
          "model_name": "HBoxModel",
          "model_module_version": "1.5.0",
          "state": {
            "_dom_classes": [],
            "_model_module": "@jupyter-widgets/controls",
            "_model_module_version": "1.5.0",
            "_model_name": "HBoxModel",
            "_view_count": null,
            "_view_module": "@jupyter-widgets/controls",
            "_view_module_version": "1.5.0",
            "_view_name": "HBoxView",
            "box_style": "",
            "children": [
              "IPY_MODEL_ffc671cf3381411e8e9ef726193bcdd1",
              "IPY_MODEL_6072dd3d60624e4d95ffe06ee4b9a255",
              "IPY_MODEL_9247e556d4d4442699db12f80fc12775"
            ],
            "layout": "IPY_MODEL_34bb376a6c9449bbaf0bbba37b932055"
          }
        },
        "ffc671cf3381411e8e9ef726193bcdd1": {
          "model_module": "@jupyter-widgets/controls",
          "model_name": "HTMLModel",
          "model_module_version": "1.5.0",
          "state": {
            "_dom_classes": [],
            "_model_module": "@jupyter-widgets/controls",
            "_model_module_version": "1.5.0",
            "_model_name": "HTMLModel",
            "_view_count": null,
            "_view_module": "@jupyter-widgets/controls",
            "_view_module_version": "1.5.0",
            "_view_name": "HTMLView",
            "description": "",
            "description_tooltip": null,
            "layout": "IPY_MODEL_7311013edc3b4af8a9eef135706bed25",
            "placeholder": "​",
            "style": "IPY_MODEL_398ab5933af34722bc44b5b982523fa7",
            "value": "100%"
          }
        },
        "6072dd3d60624e4d95ffe06ee4b9a255": {
          "model_module": "@jupyter-widgets/controls",
          "model_name": "FloatProgressModel",
          "model_module_version": "1.5.0",
          "state": {
            "_dom_classes": [],
            "_model_module": "@jupyter-widgets/controls",
            "_model_module_version": "1.5.0",
            "_model_name": "FloatProgressModel",
            "_view_count": null,
            "_view_module": "@jupyter-widgets/controls",
            "_view_module_version": "1.5.0",
            "_view_name": "ProgressView",
            "bar_style": "success",
            "description": "",
            "description_tooltip": null,
            "layout": "IPY_MODEL_0762e41eacdd4762841025ccc0fc0208",
            "max": 4795,
            "min": 0,
            "orientation": "horizontal",
            "style": "IPY_MODEL_d17f2985ad68493384b9d804e8b1ed1b",
            "value": 4795
          }
        },
        "9247e556d4d4442699db12f80fc12775": {
          "model_module": "@jupyter-widgets/controls",
          "model_name": "HTMLModel",
          "model_module_version": "1.5.0",
          "state": {
            "_dom_classes": [],
            "_model_module": "@jupyter-widgets/controls",
            "_model_module_version": "1.5.0",
            "_model_name": "HTMLModel",
            "_view_count": null,
            "_view_module": "@jupyter-widgets/controls",
            "_view_module_version": "1.5.0",
            "_view_name": "HTMLView",
            "description": "",
            "description_tooltip": null,
            "layout": "IPY_MODEL_2216f0d042cc4ce3a4f2cb6c8ac16395",
            "placeholder": "​",
            "style": "IPY_MODEL_4fe77e0be1f44db3bf82216c0e781f8f",
            "value": " 4795/4795 [00:31&lt;00:00, 208.52it/s]"
          }
        },
        "34bb376a6c9449bbaf0bbba37b932055": {
          "model_module": "@jupyter-widgets/base",
          "model_name": "LayoutModel",
          "model_module_version": "1.2.0",
          "state": {
            "_model_module": "@jupyter-widgets/base",
            "_model_module_version": "1.2.0",
            "_model_name": "LayoutModel",
            "_view_count": null,
            "_view_module": "@jupyter-widgets/base",
            "_view_module_version": "1.2.0",
            "_view_name": "LayoutView",
            "align_content": null,
            "align_items": null,
            "align_self": null,
            "border": null,
            "bottom": null,
            "display": null,
            "flex": null,
            "flex_flow": null,
            "grid_area": null,
            "grid_auto_columns": null,
            "grid_auto_flow": null,
            "grid_auto_rows": null,
            "grid_column": null,
            "grid_gap": null,
            "grid_row": null,
            "grid_template_areas": null,
            "grid_template_columns": null,
            "grid_template_rows": null,
            "height": null,
            "justify_content": null,
            "justify_items": null,
            "left": null,
            "margin": null,
            "max_height": null,
            "max_width": null,
            "min_height": null,
            "min_width": null,
            "object_fit": null,
            "object_position": null,
            "order": null,
            "overflow": null,
            "overflow_x": null,
            "overflow_y": null,
            "padding": null,
            "right": null,
            "top": null,
            "visibility": null,
            "width": null
          }
        },
        "7311013edc3b4af8a9eef135706bed25": {
          "model_module": "@jupyter-widgets/base",
          "model_name": "LayoutModel",
          "model_module_version": "1.2.0",
          "state": {
            "_model_module": "@jupyter-widgets/base",
            "_model_module_version": "1.2.0",
            "_model_name": "LayoutModel",
            "_view_count": null,
            "_view_module": "@jupyter-widgets/base",
            "_view_module_version": "1.2.0",
            "_view_name": "LayoutView",
            "align_content": null,
            "align_items": null,
            "align_self": null,
            "border": null,
            "bottom": null,
            "display": null,
            "flex": null,
            "flex_flow": null,
            "grid_area": null,
            "grid_auto_columns": null,
            "grid_auto_flow": null,
            "grid_auto_rows": null,
            "grid_column": null,
            "grid_gap": null,
            "grid_row": null,
            "grid_template_areas": null,
            "grid_template_columns": null,
            "grid_template_rows": null,
            "height": null,
            "justify_content": null,
            "justify_items": null,
            "left": null,
            "margin": null,
            "max_height": null,
            "max_width": null,
            "min_height": null,
            "min_width": null,
            "object_fit": null,
            "object_position": null,
            "order": null,
            "overflow": null,
            "overflow_x": null,
            "overflow_y": null,
            "padding": null,
            "right": null,
            "top": null,
            "visibility": null,
            "width": null
          }
        },
        "398ab5933af34722bc44b5b982523fa7": {
          "model_module": "@jupyter-widgets/controls",
          "model_name": "DescriptionStyleModel",
          "model_module_version": "1.5.0",
          "state": {
            "_model_module": "@jupyter-widgets/controls",
            "_model_module_version": "1.5.0",
            "_model_name": "DescriptionStyleModel",
            "_view_count": null,
            "_view_module": "@jupyter-widgets/base",
            "_view_module_version": "1.2.0",
            "_view_name": "StyleView",
            "description_width": ""
          }
        },
        "0762e41eacdd4762841025ccc0fc0208": {
          "model_module": "@jupyter-widgets/base",
          "model_name": "LayoutModel",
          "model_module_version": "1.2.0",
          "state": {
            "_model_module": "@jupyter-widgets/base",
            "_model_module_version": "1.2.0",
            "_model_name": "LayoutModel",
            "_view_count": null,
            "_view_module": "@jupyter-widgets/base",
            "_view_module_version": "1.2.0",
            "_view_name": "LayoutView",
            "align_content": null,
            "align_items": null,
            "align_self": null,
            "border": null,
            "bottom": null,
            "display": null,
            "flex": null,
            "flex_flow": null,
            "grid_area": null,
            "grid_auto_columns": null,
            "grid_auto_flow": null,
            "grid_auto_rows": null,
            "grid_column": null,
            "grid_gap": null,
            "grid_row": null,
            "grid_template_areas": null,
            "grid_template_columns": null,
            "grid_template_rows": null,
            "height": null,
            "justify_content": null,
            "justify_items": null,
            "left": null,
            "margin": null,
            "max_height": null,
            "max_width": null,
            "min_height": null,
            "min_width": null,
            "object_fit": null,
            "object_position": null,
            "order": null,
            "overflow": null,
            "overflow_x": null,
            "overflow_y": null,
            "padding": null,
            "right": null,
            "top": null,
            "visibility": null,
            "width": null
          }
        },
        "d17f2985ad68493384b9d804e8b1ed1b": {
          "model_module": "@jupyter-widgets/controls",
          "model_name": "ProgressStyleModel",
          "model_module_version": "1.5.0",
          "state": {
            "_model_module": "@jupyter-widgets/controls",
            "_model_module_version": "1.5.0",
            "_model_name": "ProgressStyleModel",
            "_view_count": null,
            "_view_module": "@jupyter-widgets/base",
            "_view_module_version": "1.2.0",
            "_view_name": "StyleView",
            "bar_color": null,
            "description_width": ""
          }
        },
        "2216f0d042cc4ce3a4f2cb6c8ac16395": {
          "model_module": "@jupyter-widgets/base",
          "model_name": "LayoutModel",
          "model_module_version": "1.2.0",
          "state": {
            "_model_module": "@jupyter-widgets/base",
            "_model_module_version": "1.2.0",
            "_model_name": "LayoutModel",
            "_view_count": null,
            "_view_module": "@jupyter-widgets/base",
            "_view_module_version": "1.2.0",
            "_view_name": "LayoutView",
            "align_content": null,
            "align_items": null,
            "align_self": null,
            "border": null,
            "bottom": null,
            "display": null,
            "flex": null,
            "flex_flow": null,
            "grid_area": null,
            "grid_auto_columns": null,
            "grid_auto_flow": null,
            "grid_auto_rows": null,
            "grid_column": null,
            "grid_gap": null,
            "grid_row": null,
            "grid_template_areas": null,
            "grid_template_columns": null,
            "grid_template_rows": null,
            "height": null,
            "justify_content": null,
            "justify_items": null,
            "left": null,
            "margin": null,
            "max_height": null,
            "max_width": null,
            "min_height": null,
            "min_width": null,
            "object_fit": null,
            "object_position": null,
            "order": null,
            "overflow": null,
            "overflow_x": null,
            "overflow_y": null,
            "padding": null,
            "right": null,
            "top": null,
            "visibility": null,
            "width": null
          }
        },
        "4fe77e0be1f44db3bf82216c0e781f8f": {
          "model_module": "@jupyter-widgets/controls",
          "model_name": "DescriptionStyleModel",
          "model_module_version": "1.5.0",
          "state": {
            "_model_module": "@jupyter-widgets/controls",
            "_model_module_version": "1.5.0",
            "_model_name": "DescriptionStyleModel",
            "_view_count": null,
            "_view_module": "@jupyter-widgets/base",
            "_view_module_version": "1.2.0",
            "_view_name": "StyleView",
            "description_width": ""
          }
        }
      }
    }
  },
  "cells": [
    {
      "cell_type": "markdown",
      "source": [
        "# 0.0. IMPORTS"
      ],
      "metadata": {
        "id": "rgRTRBGPe3-5"
      }
    },
    {
      "cell_type": "code",
      "execution_count": 93,
      "metadata": {
        "id": "4rAxmsjkmrQ3"
      },
      "outputs": [],
      "source": [
        "import pandas            as pd\n",
        "import numpy             as np\n",
        "import matplotlib.pyplot as plt\n",
        "import mplleaflet        as mpl\n",
        "import seaborn           as sns\n",
        "\n",
        "import random\n",
        "import folium\n",
        "import matplotlib\n",
        "\n",
        "from tqdm.notebook import tqdm\n",
        "%matplotlib inline"
      ]
    },
    {
      "cell_type": "markdown",
      "source": [
        "## 0.1. Help Functions"
      ],
      "metadata": {
        "id": "MP06aHwqftsF"
      }
    },
    {
      "cell_type": "code",
      "source": [
        "# Função que cria o mapa em mplleaflet\n",
        "def show_traj_by_userId(df,\n",
        "                        userId=None,\n",
        "                        label_tid='userId',\n",
        "                        label_latitude= 'latitude',\n",
        "                        label_longitude= 'longitude',\n",
        "                        figsize=(10,10),\n",
        "                        markersize=5):\n",
        "  \n",
        "  fig = plt.figure(figsize=figsize)\n",
        "  df_ = df[df[label_tid]==userId]\n",
        "  print('shape total: {}   shape for id (): {}'.format(df.shape[0],userId,df_.shape[0]))\n",
        "\n",
        "  ## Criando o ponto inicial e ponto final\n",
        "  plt.plot(df_.iloc[0][label_longitude], df_.iloc[0][label_latitude], 'yo' , markersize=markersize+5)\n",
        "  plt.plot(df_.iloc[-1][label_longitude], df_.iloc[-1][label_latitude], 'yX', markersize=markersize+5)\n",
        "\n",
        "  plt.plot(df_[label_longitude], df_[label_latitude], 'b')\n",
        "  plt.plot(df_.loc[:,label_longitude],df_.loc[:,label_latitude],'r.', markersize=markersize)\n",
        "  \n",
        "  return df_,fig\n",
        "\n",
        "\n",
        "def haversine(lat1,lon1,lat2,lon2,to_radians=True,earth_radius=6371):\n",
        "  try:\n",
        "    # Convert sinfle points to array\n",
        "    if to_radians:\n",
        "      lat1,lon1,lat2,lon2 = np.radians([lat1,lon1,lat2,lon2])\n",
        "      a = np.sin((lat2-lat1)/2.0)**2+ np.cos(lat1)*np.cos(lat2)*np.sin((lon2-lon1)/2.0)**2\n",
        "    return 2 * 1000 * earth_radius * np.arctan2(a ** 0.5, (1-a) ** 0.5)\n",
        "  except Exception as e:\n",
        "    print('\\Error Haverside fuction')\n",
        "    print('lat1:{}nion1:()\\nlon2:{}'.format(lat1,lon1,lat2,lon2))\n",
        "    print('type(lat1) = {}\\ntype(lon1)= ()\\ntype(lat2) = {}\\ntype(lon2)={}\\n'.format(type(lat1),type(lon1),type(lat2),type(lon2)))\n",
        "    raise e\n",
        "\n",
        "\n",
        "def formate_tags(line, slice):\n",
        "  map_formated_tags = map(lambda tag: '{}:{}'.format(tag,line(tag),slice_))\n",
        "  return '<br/>'.join(map_formated_tags)\n",
        "\n",
        "\n",
        "def add_traj_folium(df,\n",
        "                    folium_map = None,\n",
        "                    slice_tags = None,\n",
        "                    tiles = 'OpenStreetMap'):\n",
        "  if not slice_tags:\n",
        "    slice_tags = df.columns\n",
        "\n",
        "  if not folium_map:\n",
        "    initial_lat = df['latitude'].mean()\n",
        "    initial_lon = df['longitude'].mean()\n",
        "    folium_map = folium.Map(location=[df['latitude'].mean(), df['longitude'].mean()],\n",
        "                            control_scale=True,\n",
        "                            zoom_stars=5,\n",
        "                            tiles=tiles)\n",
        "    \n",
        "  # Criando as linhas da trajetória\n",
        "  folium.PolyLine(list(zip(df['latitude'], df['longitude'])), weight=2, color='black').add_to(folium_map)    \n",
        "\n",
        "  def circle_marker(iter_tuple,map_):\n",
        "    _,line = iter_tuplex\n",
        "    x = line['latitude'],\n",
        "    y = line['longitude']\n",
        "    tags_formated = formate_tags(line, slice_tags)\n",
        "\n",
        "    folium.Circle(radius=1 , location=[x,y], popup=tags_formated, color='blue', fill=False).add_to(map)\n",
        "\n",
        "    list(map(lambda x: circle_marker(x,folium_map),df.iterrows()))\n",
        "  \n",
        "  return folium_map   "
      ],
      "metadata": {
        "id": "iJt_jEuffxMd"
      },
      "execution_count": 139,
      "outputs": []
    },
    {
      "cell_type": "markdown",
      "source": [
        "## 0.2. Loanding data"
      ],
      "metadata": {
        "id": "zaCl_FEpiDv5"
      }
    },
    {
      "cell_type": "code",
      "source": [
        "%time \n",
        "filename = '/content/dataset_TSMC2014_NYC.csv'\n",
        "df_raw = pd.read_csv(filename, parse_dates=['utcTimestamp'])\n",
        "df_raw.head()"
      ],
      "metadata": {
        "colab": {
          "base_uri": "https://localhost:8080/",
          "height": 0
        },
        "id": "wdaq_uQAf7LT",
        "outputId": "61ce3722-1318-4d6f-8db0-7a64494336a8"
      },
      "execution_count": 95,
      "outputs": [
        {
          "output_type": "stream",
          "name": "stdout",
          "text": [
            "CPU times: user 4 µs, sys: 0 ns, total: 4 µs\n",
            "Wall time: 9.3 µs\n"
          ]
        },
        {
          "output_type": "execute_result",
          "data": {
            "text/plain": [
              "   userId                   venueId           venueCategoryId  \\\n",
              "0     470  49bbd6c0f964a520f4531fe3  4bf58dd8d48988d127951735   \n",
              "1     979  4a43c0aef964a520c6a61fe3  4bf58dd8d48988d1df941735   \n",
              "2      69  4c5cc7b485a1e21e00d35711  4bf58dd8d48988d103941735   \n",
              "3     395  4bc7086715a7ef3bef9878da  4bf58dd8d48988d104941735   \n",
              "4      87  4cf2c5321d18a143951b5cec  4bf58dd8d48988d1cb941735   \n",
              "\n",
              "         venueCategory   latitude  longitude  timezoneOffset  \\\n",
              "0  Arts & Crafts Store  40.719810 -74.002581            -240   \n",
              "1               Bridge  40.606800 -74.044170            -240   \n",
              "2       Home (private)  40.716162 -73.883070            -240   \n",
              "3       Medical Center  40.745164 -73.982519            -240   \n",
              "4           Food Truck  40.740104 -73.989658            -240   \n",
              "\n",
              "               utcTimestamp  \n",
              "0 2012-04-03 18:00:09+00:00  \n",
              "1 2012-04-03 18:00:25+00:00  \n",
              "2 2012-04-03 18:02:24+00:00  \n",
              "3 2012-04-03 18:02:41+00:00  \n",
              "4 2012-04-03 18:03:00+00:00  "
            ],
            "text/html": [
              "\n",
              "  <div id=\"df-dba5e994-816e-4b3d-8b4e-2a01b243f8f6\">\n",
              "    <div class=\"colab-df-container\">\n",
              "      <div>\n",
              "<style scoped>\n",
              "    .dataframe tbody tr th:only-of-type {\n",
              "        vertical-align: middle;\n",
              "    }\n",
              "\n",
              "    .dataframe tbody tr th {\n",
              "        vertical-align: top;\n",
              "    }\n",
              "\n",
              "    .dataframe thead th {\n",
              "        text-align: right;\n",
              "    }\n",
              "</style>\n",
              "<table border=\"1\" class=\"dataframe\">\n",
              "  <thead>\n",
              "    <tr style=\"text-align: right;\">\n",
              "      <th></th>\n",
              "      <th>userId</th>\n",
              "      <th>venueId</th>\n",
              "      <th>venueCategoryId</th>\n",
              "      <th>venueCategory</th>\n",
              "      <th>latitude</th>\n",
              "      <th>longitude</th>\n",
              "      <th>timezoneOffset</th>\n",
              "      <th>utcTimestamp</th>\n",
              "    </tr>\n",
              "  </thead>\n",
              "  <tbody>\n",
              "    <tr>\n",
              "      <th>0</th>\n",
              "      <td>470</td>\n",
              "      <td>49bbd6c0f964a520f4531fe3</td>\n",
              "      <td>4bf58dd8d48988d127951735</td>\n",
              "      <td>Arts &amp; Crafts Store</td>\n",
              "      <td>40.719810</td>\n",
              "      <td>-74.002581</td>\n",
              "      <td>-240</td>\n",
              "      <td>2012-04-03 18:00:09+00:00</td>\n",
              "    </tr>\n",
              "    <tr>\n",
              "      <th>1</th>\n",
              "      <td>979</td>\n",
              "      <td>4a43c0aef964a520c6a61fe3</td>\n",
              "      <td>4bf58dd8d48988d1df941735</td>\n",
              "      <td>Bridge</td>\n",
              "      <td>40.606800</td>\n",
              "      <td>-74.044170</td>\n",
              "      <td>-240</td>\n",
              "      <td>2012-04-03 18:00:25+00:00</td>\n",
              "    </tr>\n",
              "    <tr>\n",
              "      <th>2</th>\n",
              "      <td>69</td>\n",
              "      <td>4c5cc7b485a1e21e00d35711</td>\n",
              "      <td>4bf58dd8d48988d103941735</td>\n",
              "      <td>Home (private)</td>\n",
              "      <td>40.716162</td>\n",
              "      <td>-73.883070</td>\n",
              "      <td>-240</td>\n",
              "      <td>2012-04-03 18:02:24+00:00</td>\n",
              "    </tr>\n",
              "    <tr>\n",
              "      <th>3</th>\n",
              "      <td>395</td>\n",
              "      <td>4bc7086715a7ef3bef9878da</td>\n",
              "      <td>4bf58dd8d48988d104941735</td>\n",
              "      <td>Medical Center</td>\n",
              "      <td>40.745164</td>\n",
              "      <td>-73.982519</td>\n",
              "      <td>-240</td>\n",
              "      <td>2012-04-03 18:02:41+00:00</td>\n",
              "    </tr>\n",
              "    <tr>\n",
              "      <th>4</th>\n",
              "      <td>87</td>\n",
              "      <td>4cf2c5321d18a143951b5cec</td>\n",
              "      <td>4bf58dd8d48988d1cb941735</td>\n",
              "      <td>Food Truck</td>\n",
              "      <td>40.740104</td>\n",
              "      <td>-73.989658</td>\n",
              "      <td>-240</td>\n",
              "      <td>2012-04-03 18:03:00+00:00</td>\n",
              "    </tr>\n",
              "  </tbody>\n",
              "</table>\n",
              "</div>\n",
              "      <button class=\"colab-df-convert\" onclick=\"convertToInteractive('df-dba5e994-816e-4b3d-8b4e-2a01b243f8f6')\"\n",
              "              title=\"Convert this dataframe to an interactive table.\"\n",
              "              style=\"display:none;\">\n",
              "        \n",
              "  <svg xmlns=\"http://www.w3.org/2000/svg\" height=\"24px\"viewBox=\"0 0 24 24\"\n",
              "       width=\"24px\">\n",
              "    <path d=\"M0 0h24v24H0V0z\" fill=\"none\"/>\n",
              "    <path d=\"M18.56 5.44l.94 2.06.94-2.06 2.06-.94-2.06-.94-.94-2.06-.94 2.06-2.06.94zm-11 1L8.5 8.5l.94-2.06 2.06-.94-2.06-.94L8.5 2.5l-.94 2.06-2.06.94zm10 10l.94 2.06.94-2.06 2.06-.94-2.06-.94-.94-2.06-.94 2.06-2.06.94z\"/><path d=\"M17.41 7.96l-1.37-1.37c-.4-.4-.92-.59-1.43-.59-.52 0-1.04.2-1.43.59L10.3 9.45l-7.72 7.72c-.78.78-.78 2.05 0 2.83L4 21.41c.39.39.9.59 1.41.59.51 0 1.02-.2 1.41-.59l7.78-7.78 2.81-2.81c.8-.78.8-2.07 0-2.86zM5.41 20L4 18.59l7.72-7.72 1.47 1.35L5.41 20z\"/>\n",
              "  </svg>\n",
              "      </button>\n",
              "      \n",
              "  <style>\n",
              "    .colab-df-container {\n",
              "      display:flex;\n",
              "      flex-wrap:wrap;\n",
              "      gap: 12px;\n",
              "    }\n",
              "\n",
              "    .colab-df-convert {\n",
              "      background-color: #E8F0FE;\n",
              "      border: none;\n",
              "      border-radius: 50%;\n",
              "      cursor: pointer;\n",
              "      display: none;\n",
              "      fill: #1967D2;\n",
              "      height: 32px;\n",
              "      padding: 0 0 0 0;\n",
              "      width: 32px;\n",
              "    }\n",
              "\n",
              "    .colab-df-convert:hover {\n",
              "      background-color: #E2EBFA;\n",
              "      box-shadow: 0px 1px 2px rgba(60, 64, 67, 0.3), 0px 1px 3px 1px rgba(60, 64, 67, 0.15);\n",
              "      fill: #174EA6;\n",
              "    }\n",
              "\n",
              "    [theme=dark] .colab-df-convert {\n",
              "      background-color: #3B4455;\n",
              "      fill: #D2E3FC;\n",
              "    }\n",
              "\n",
              "    [theme=dark] .colab-df-convert:hover {\n",
              "      background-color: #434B5C;\n",
              "      box-shadow: 0px 1px 3px 1px rgba(0, 0, 0, 0.15);\n",
              "      filter: drop-shadow(0px 1px 2px rgba(0, 0, 0, 0.3));\n",
              "      fill: #FFFFFF;\n",
              "    }\n",
              "  </style>\n",
              "\n",
              "      <script>\n",
              "        const buttonEl =\n",
              "          document.querySelector('#df-dba5e994-816e-4b3d-8b4e-2a01b243f8f6 button.colab-df-convert');\n",
              "        buttonEl.style.display =\n",
              "          google.colab.kernel.accessAllowed ? 'block' : 'none';\n",
              "\n",
              "        async function convertToInteractive(key) {\n",
              "          const element = document.querySelector('#df-dba5e994-816e-4b3d-8b4e-2a01b243f8f6');\n",
              "          const dataTable =\n",
              "            await google.colab.kernel.invokeFunction('convertToInteractive',\n",
              "                                                     [key], {});\n",
              "          if (!dataTable) return;\n",
              "\n",
              "          const docLinkHtml = 'Like what you see? Visit the ' +\n",
              "            '<a target=\"_blank\" href=https://colab.research.google.com/notebooks/data_table.ipynb>data table notebook</a>'\n",
              "            + ' to learn more about interactive tables.';\n",
              "          element.innerHTML = '';\n",
              "          dataTable['output_type'] = 'display_data';\n",
              "          await google.colab.output.renderOutput(dataTable, element);\n",
              "          const docLink = document.createElement('div');\n",
              "          docLink.innerHTML = docLinkHtml;\n",
              "          element.appendChild(docLink);\n",
              "        }\n",
              "      </script>\n",
              "    </div>\n",
              "  </div>\n",
              "  "
            ]
          },
          "metadata": {},
          "execution_count": 95
        }
      ]
    },
    {
      "cell_type": "markdown",
      "source": [
        "# 1.0. DATA CLEANING "
      ],
      "metadata": {
        "id": "z6CtzW3ZfpMS"
      }
    },
    {
      "cell_type": "code",
      "source": [
        "df1 = df_raw.copy()"
      ],
      "metadata": {
        "id": "cbf-Imhkis4k"
      },
      "execution_count": 96,
      "outputs": []
    },
    {
      "cell_type": "markdown",
      "source": [
        "## 1.1. Selecionando 20 amostras de usuários."
      ],
      "metadata": {
        "id": "9jHrOKyQhvTU"
      }
    },
    {
      "cell_type": "code",
      "source": [
        "df1['userId'].nunique()"
      ],
      "metadata": {
        "colab": {
          "base_uri": "https://localhost:8080/"
        },
        "id": "LPBBTkfTgLSh",
        "outputId": "968dca95-87df-4cec-ae1b-3d31223b0fe8"
      },
      "execution_count": 97,
      "outputs": [
        {
          "output_type": "execute_result",
          "data": {
            "text/plain": [
              "1083"
            ]
          },
          "metadata": {},
          "execution_count": 97
        }
      ]
    },
    {
      "cell_type": "code",
      "source": [
        "users = random.sample(list(df1['userId'].unique()),20)\n",
        "user_to_drop = df1[df1['userId'].isin(users)==False].index\n",
        "df1.drop(user_to_drop, inplace=True)"
      ],
      "metadata": {
        "id": "c7FI1DO7gmOx"
      },
      "execution_count": 98,
      "outputs": []
    },
    {
      "cell_type": "code",
      "source": [
        "df1['userId'].nunique()"
      ],
      "metadata": {
        "colab": {
          "base_uri": "https://localhost:8080/"
        },
        "id": "PdbFSRhbhQyJ",
        "outputId": "7651c2a0-0cbd-4cb7-f63d-9a5f5ba7cdd0"
      },
      "execution_count": 99,
      "outputs": [
        {
          "output_type": "execute_result",
          "data": {
            "text/plain": [
              "20"
            ]
          },
          "metadata": {},
          "execution_count": 99
        }
      ]
    },
    {
      "cell_type": "markdown",
      "source": [
        "## 1.2. Ordenando os dados"
      ],
      "metadata": {
        "id": "0JkP7I96jgXw"
      }
    },
    {
      "cell_type": "code",
      "source": [
        "df1.sort_values(['userId','utcTimestamp'], inplace=True)"
      ],
      "metadata": {
        "id": "Wf80KG-4hY8Z"
      },
      "execution_count": 100,
      "outputs": []
    },
    {
      "cell_type": "code",
      "source": [
        "df1.info()"
      ],
      "metadata": {
        "colab": {
          "base_uri": "https://localhost:8080/"
        },
        "id": "K40sniBhjzQs",
        "outputId": "796d4e66-0fd3-4367-a83e-6e7aa3cca195"
      },
      "execution_count": 101,
      "outputs": [
        {
          "output_type": "stream",
          "name": "stdout",
          "text": [
            "<class 'pandas.core.frame.DataFrame'>\n",
            "Int64Index: 4801 entries, 11756 to 225874\n",
            "Data columns (total 8 columns):\n",
            " #   Column           Non-Null Count  Dtype              \n",
            "---  ------           --------------  -----              \n",
            " 0   userId           4801 non-null   int64              \n",
            " 1   venueId          4801 non-null   object             \n",
            " 2   venueCategoryId  4801 non-null   object             \n",
            " 3   venueCategory    4801 non-null   object             \n",
            " 4   latitude         4801 non-null   float64            \n",
            " 5   longitude        4801 non-null   float64            \n",
            " 6   timezoneOffset   4801 non-null   int64              \n",
            " 7   utcTimestamp     4801 non-null   datetime64[ns, UTC]\n",
            "dtypes: datetime64[ns, UTC](1), float64(2), int64(2), object(3)\n",
            "memory usage: 337.6+ KB\n"
          ]
        }
      ]
    },
    {
      "cell_type": "markdown",
      "source": [
        "## 1.3. Mudando o formato dos dados"
      ],
      "metadata": {
        "id": "hx6f5BXxkQgs"
      }
    },
    {
      "cell_type": "code",
      "source": [
        "df1['utcTimestamp'] =    df1['utcTimestamp'].dt.tz_localize(None)\n",
        "df1['userId'] =          pd.Categorical(df1['userId'])\n",
        "df1['venueId'] =         pd.Categorical(df1['venueId'])\n",
        "df1['venueCategoryId'] = pd.Categorical(df1['venueCategoryId'])\n",
        "df1['venueCategory'] =   pd.Categorical(df1['venueCategory'])"
      ],
      "metadata": {
        "id": "3wknq-dykvxj"
      },
      "execution_count": 102,
      "outputs": []
    },
    {
      "cell_type": "code",
      "source": [
        "df1['venueId'].nunique()"
      ],
      "metadata": {
        "colab": {
          "base_uri": "https://localhost:8080/"
        },
        "id": "6Um4tXbplpal",
        "outputId": "e97354e0-fd64-43ec-8385-2b364230b74d"
      },
      "execution_count": 103,
      "outputs": [
        {
          "output_type": "execute_result",
          "data": {
            "text/plain": [
              "1510"
            ]
          },
          "metadata": {},
          "execution_count": 103
        }
      ]
    },
    {
      "cell_type": "code",
      "source": [
        "df1.info()"
      ],
      "metadata": {
        "colab": {
          "base_uri": "https://localhost:8080/"
        },
        "id": "BgjZXwfrmAGR",
        "outputId": "e91adabb-66d5-4c0f-a734-b3eb1da9c349"
      },
      "execution_count": 104,
      "outputs": [
        {
          "output_type": "stream",
          "name": "stdout",
          "text": [
            "<class 'pandas.core.frame.DataFrame'>\n",
            "Int64Index: 4801 entries, 11756 to 225874\n",
            "Data columns (total 8 columns):\n",
            " #   Column           Non-Null Count  Dtype         \n",
            "---  ------           --------------  -----         \n",
            " 0   userId           4801 non-null   category      \n",
            " 1   venueId          4801 non-null   category      \n",
            " 2   venueCategoryId  4801 non-null   category      \n",
            " 3   venueCategory    4801 non-null   category      \n",
            " 4   latitude         4801 non-null   float64       \n",
            " 5   longitude        4801 non-null   float64       \n",
            " 6   timezoneOffset   4801 non-null   int64         \n",
            " 7   utcTimestamp     4801 non-null   datetime64[ns]\n",
            "dtypes: category(4), datetime64[ns](1), float64(2), int64(1)\n",
            "memory usage: 280.5 KB\n"
          ]
        }
      ]
    },
    {
      "cell_type": "markdown",
      "source": [
        "## 1.4. Descriptive Statistics"
      ],
      "metadata": {
        "id": "9nJTwmjOhHmf"
      }
    },
    {
      "cell_type": "code",
      "source": [
        "df1.describe(include='all' , datetime_is_numeric=True)"
      ],
      "metadata": {
        "colab": {
          "base_uri": "https://localhost:8080/",
          "height": 0
        },
        "id": "KViny3WgnxcO",
        "outputId": "b70f67c2-b452-4689-bcd8-c6f6802f338e"
      },
      "execution_count": 105,
      "outputs": [
        {
          "output_type": "execute_result",
          "data": {
            "text/plain": [
              "        userId                   venueId           venueCategoryId  \\\n",
              "count   4801.0                      4801                      4801   \n",
              "unique    20.0                      1510                       238   \n",
              "top      974.0  4c5cc7b485a1e21e00d35711  4bf58dd8d48988d103941735   \n",
              "freq    1107.0                       104                       356   \n",
              "mean       NaN                       NaN                       NaN   \n",
              "min        NaN                       NaN                       NaN   \n",
              "25%        NaN                       NaN                       NaN   \n",
              "50%        NaN                       NaN                       NaN   \n",
              "75%        NaN                       NaN                       NaN   \n",
              "max        NaN                       NaN                       NaN   \n",
              "std        NaN                       NaN                       NaN   \n",
              "\n",
              "       venueCategory     latitude    longitude  timezoneOffset  \\\n",
              "count           4801  4801.000000  4801.000000     4801.000000   \n",
              "unique           174          NaN          NaN             NaN   \n",
              "top              Bar          NaN          NaN             NaN   \n",
              "freq             499          NaN          NaN             NaN   \n",
              "mean             NaN    40.745039   -73.953563     -251.422620   \n",
              "min              NaN    40.573348   -74.261637     -300.000000   \n",
              "25%              NaN    40.700699   -73.993939     -240.000000   \n",
              "50%              NaN    40.745677   -73.967332     -240.000000   \n",
              "75%              NaN    40.782083   -73.894830     -240.000000   \n",
              "max              NaN    40.976245   -73.702309     -240.000000   \n",
              "std              NaN     0.069617     0.092958       23.558365   \n",
              "\n",
              "                         utcTimestamp  \n",
              "count                            4801  \n",
              "unique                            NaN  \n",
              "top                               NaN  \n",
              "freq                              NaN  \n",
              "mean    2012-07-12 06:25:42.734638592  \n",
              "min               2012-04-03 18:02:24  \n",
              "25%               2012-05-03 22:37:30  \n",
              "50%               2012-06-06 09:17:06  \n",
              "75%               2012-08-19 03:53:24  \n",
              "max               2013-02-16 01:52:03  \n",
              "std                               NaN  "
            ],
            "text/html": [
              "\n",
              "  <div id=\"df-6647df0c-4264-4f37-81a7-08dfea4e08ae\">\n",
              "    <div class=\"colab-df-container\">\n",
              "      <div>\n",
              "<style scoped>\n",
              "    .dataframe tbody tr th:only-of-type {\n",
              "        vertical-align: middle;\n",
              "    }\n",
              "\n",
              "    .dataframe tbody tr th {\n",
              "        vertical-align: top;\n",
              "    }\n",
              "\n",
              "    .dataframe thead th {\n",
              "        text-align: right;\n",
              "    }\n",
              "</style>\n",
              "<table border=\"1\" class=\"dataframe\">\n",
              "  <thead>\n",
              "    <tr style=\"text-align: right;\">\n",
              "      <th></th>\n",
              "      <th>userId</th>\n",
              "      <th>venueId</th>\n",
              "      <th>venueCategoryId</th>\n",
              "      <th>venueCategory</th>\n",
              "      <th>latitude</th>\n",
              "      <th>longitude</th>\n",
              "      <th>timezoneOffset</th>\n",
              "      <th>utcTimestamp</th>\n",
              "    </tr>\n",
              "  </thead>\n",
              "  <tbody>\n",
              "    <tr>\n",
              "      <th>count</th>\n",
              "      <td>4801.0</td>\n",
              "      <td>4801</td>\n",
              "      <td>4801</td>\n",
              "      <td>4801</td>\n",
              "      <td>4801.000000</td>\n",
              "      <td>4801.000000</td>\n",
              "      <td>4801.000000</td>\n",
              "      <td>4801</td>\n",
              "    </tr>\n",
              "    <tr>\n",
              "      <th>unique</th>\n",
              "      <td>20.0</td>\n",
              "      <td>1510</td>\n",
              "      <td>238</td>\n",
              "      <td>174</td>\n",
              "      <td>NaN</td>\n",
              "      <td>NaN</td>\n",
              "      <td>NaN</td>\n",
              "      <td>NaN</td>\n",
              "    </tr>\n",
              "    <tr>\n",
              "      <th>top</th>\n",
              "      <td>974.0</td>\n",
              "      <td>4c5cc7b485a1e21e00d35711</td>\n",
              "      <td>4bf58dd8d48988d103941735</td>\n",
              "      <td>Bar</td>\n",
              "      <td>NaN</td>\n",
              "      <td>NaN</td>\n",
              "      <td>NaN</td>\n",
              "      <td>NaN</td>\n",
              "    </tr>\n",
              "    <tr>\n",
              "      <th>freq</th>\n",
              "      <td>1107.0</td>\n",
              "      <td>104</td>\n",
              "      <td>356</td>\n",
              "      <td>499</td>\n",
              "      <td>NaN</td>\n",
              "      <td>NaN</td>\n",
              "      <td>NaN</td>\n",
              "      <td>NaN</td>\n",
              "    </tr>\n",
              "    <tr>\n",
              "      <th>mean</th>\n",
              "      <td>NaN</td>\n",
              "      <td>NaN</td>\n",
              "      <td>NaN</td>\n",
              "      <td>NaN</td>\n",
              "      <td>40.745039</td>\n",
              "      <td>-73.953563</td>\n",
              "      <td>-251.422620</td>\n",
              "      <td>2012-07-12 06:25:42.734638592</td>\n",
              "    </tr>\n",
              "    <tr>\n",
              "      <th>min</th>\n",
              "      <td>NaN</td>\n",
              "      <td>NaN</td>\n",
              "      <td>NaN</td>\n",
              "      <td>NaN</td>\n",
              "      <td>40.573348</td>\n",
              "      <td>-74.261637</td>\n",
              "      <td>-300.000000</td>\n",
              "      <td>2012-04-03 18:02:24</td>\n",
              "    </tr>\n",
              "    <tr>\n",
              "      <th>25%</th>\n",
              "      <td>NaN</td>\n",
              "      <td>NaN</td>\n",
              "      <td>NaN</td>\n",
              "      <td>NaN</td>\n",
              "      <td>40.700699</td>\n",
              "      <td>-73.993939</td>\n",
              "      <td>-240.000000</td>\n",
              "      <td>2012-05-03 22:37:30</td>\n",
              "    </tr>\n",
              "    <tr>\n",
              "      <th>50%</th>\n",
              "      <td>NaN</td>\n",
              "      <td>NaN</td>\n",
              "      <td>NaN</td>\n",
              "      <td>NaN</td>\n",
              "      <td>40.745677</td>\n",
              "      <td>-73.967332</td>\n",
              "      <td>-240.000000</td>\n",
              "      <td>2012-06-06 09:17:06</td>\n",
              "    </tr>\n",
              "    <tr>\n",
              "      <th>75%</th>\n",
              "      <td>NaN</td>\n",
              "      <td>NaN</td>\n",
              "      <td>NaN</td>\n",
              "      <td>NaN</td>\n",
              "      <td>40.782083</td>\n",
              "      <td>-73.894830</td>\n",
              "      <td>-240.000000</td>\n",
              "      <td>2012-08-19 03:53:24</td>\n",
              "    </tr>\n",
              "    <tr>\n",
              "      <th>max</th>\n",
              "      <td>NaN</td>\n",
              "      <td>NaN</td>\n",
              "      <td>NaN</td>\n",
              "      <td>NaN</td>\n",
              "      <td>40.976245</td>\n",
              "      <td>-73.702309</td>\n",
              "      <td>-240.000000</td>\n",
              "      <td>2013-02-16 01:52:03</td>\n",
              "    </tr>\n",
              "    <tr>\n",
              "      <th>std</th>\n",
              "      <td>NaN</td>\n",
              "      <td>NaN</td>\n",
              "      <td>NaN</td>\n",
              "      <td>NaN</td>\n",
              "      <td>0.069617</td>\n",
              "      <td>0.092958</td>\n",
              "      <td>23.558365</td>\n",
              "      <td>NaN</td>\n",
              "    </tr>\n",
              "  </tbody>\n",
              "</table>\n",
              "</div>\n",
              "      <button class=\"colab-df-convert\" onclick=\"convertToInteractive('df-6647df0c-4264-4f37-81a7-08dfea4e08ae')\"\n",
              "              title=\"Convert this dataframe to an interactive table.\"\n",
              "              style=\"display:none;\">\n",
              "        \n",
              "  <svg xmlns=\"http://www.w3.org/2000/svg\" height=\"24px\"viewBox=\"0 0 24 24\"\n",
              "       width=\"24px\">\n",
              "    <path d=\"M0 0h24v24H0V0z\" fill=\"none\"/>\n",
              "    <path d=\"M18.56 5.44l.94 2.06.94-2.06 2.06-.94-2.06-.94-.94-2.06-.94 2.06-2.06.94zm-11 1L8.5 8.5l.94-2.06 2.06-.94-2.06-.94L8.5 2.5l-.94 2.06-2.06.94zm10 10l.94 2.06.94-2.06 2.06-.94-2.06-.94-.94-2.06-.94 2.06-2.06.94z\"/><path d=\"M17.41 7.96l-1.37-1.37c-.4-.4-.92-.59-1.43-.59-.52 0-1.04.2-1.43.59L10.3 9.45l-7.72 7.72c-.78.78-.78 2.05 0 2.83L4 21.41c.39.39.9.59 1.41.59.51 0 1.02-.2 1.41-.59l7.78-7.78 2.81-2.81c.8-.78.8-2.07 0-2.86zM5.41 20L4 18.59l7.72-7.72 1.47 1.35L5.41 20z\"/>\n",
              "  </svg>\n",
              "      </button>\n",
              "      \n",
              "  <style>\n",
              "    .colab-df-container {\n",
              "      display:flex;\n",
              "      flex-wrap:wrap;\n",
              "      gap: 12px;\n",
              "    }\n",
              "\n",
              "    .colab-df-convert {\n",
              "      background-color: #E8F0FE;\n",
              "      border: none;\n",
              "      border-radius: 50%;\n",
              "      cursor: pointer;\n",
              "      display: none;\n",
              "      fill: #1967D2;\n",
              "      height: 32px;\n",
              "      padding: 0 0 0 0;\n",
              "      width: 32px;\n",
              "    }\n",
              "\n",
              "    .colab-df-convert:hover {\n",
              "      background-color: #E2EBFA;\n",
              "      box-shadow: 0px 1px 2px rgba(60, 64, 67, 0.3), 0px 1px 3px 1px rgba(60, 64, 67, 0.15);\n",
              "      fill: #174EA6;\n",
              "    }\n",
              "\n",
              "    [theme=dark] .colab-df-convert {\n",
              "      background-color: #3B4455;\n",
              "      fill: #D2E3FC;\n",
              "    }\n",
              "\n",
              "    [theme=dark] .colab-df-convert:hover {\n",
              "      background-color: #434B5C;\n",
              "      box-shadow: 0px 1px 3px 1px rgba(0, 0, 0, 0.15);\n",
              "      filter: drop-shadow(0px 1px 2px rgba(0, 0, 0, 0.3));\n",
              "      fill: #FFFFFF;\n",
              "    }\n",
              "  </style>\n",
              "\n",
              "      <script>\n",
              "        const buttonEl =\n",
              "          document.querySelector('#df-6647df0c-4264-4f37-81a7-08dfea4e08ae button.colab-df-convert');\n",
              "        buttonEl.style.display =\n",
              "          google.colab.kernel.accessAllowed ? 'block' : 'none';\n",
              "\n",
              "        async function convertToInteractive(key) {\n",
              "          const element = document.querySelector('#df-6647df0c-4264-4f37-81a7-08dfea4e08ae');\n",
              "          const dataTable =\n",
              "            await google.colab.kernel.invokeFunction('convertToInteractive',\n",
              "                                                     [key], {});\n",
              "          if (!dataTable) return;\n",
              "\n",
              "          const docLinkHtml = 'Like what you see? Visit the ' +\n",
              "            '<a target=\"_blank\" href=https://colab.research.google.com/notebooks/data_table.ipynb>data table notebook</a>'\n",
              "            + ' to learn more about interactive tables.';\n",
              "          element.innerHTML = '';\n",
              "          dataTable['output_type'] = 'display_data';\n",
              "          await google.colab.output.renderOutput(dataTable, element);\n",
              "          const docLink = document.createElement('div');\n",
              "          docLink.innerHTML = docLinkHtml;\n",
              "          element.appendChild(docLink);\n",
              "        }\n",
              "      </script>\n",
              "    </div>\n",
              "  </div>\n",
              "  "
            ]
          },
          "metadata": {},
          "execution_count": 105
        }
      ]
    },
    {
      "cell_type": "markdown",
      "source": [
        "## 1.5. Verificando Dados Nulos"
      ],
      "metadata": {
        "id": "Kl54Mkz3plWP"
      }
    },
    {
      "cell_type": "code",
      "source": [
        "df1.isna().sum()"
      ],
      "metadata": {
        "colab": {
          "base_uri": "https://localhost:8080/"
        },
        "id": "oYWmHUd3oA08",
        "outputId": "22f468ee-df7f-49b4-c131-6b6bf1547d61"
      },
      "execution_count": 106,
      "outputs": [
        {
          "output_type": "execute_result",
          "data": {
            "text/plain": [
              "userId             0\n",
              "venueId            0\n",
              "venueCategoryId    0\n",
              "venueCategory      0\n",
              "latitude           0\n",
              "longitude          0\n",
              "timezoneOffset     0\n",
              "utcTimestamp       0\n",
              "dtype: int64"
            ]
          },
          "metadata": {},
          "execution_count": 106
        }
      ]
    },
    {
      "cell_type": "markdown",
      "source": [
        "## 1.6. Verificando Dados Duplicados"
      ],
      "metadata": {
        "id": "GS6R4wc8p8CQ"
      }
    },
    {
      "cell_type": "code",
      "source": [
        "subset = ['userId','utcTimestamp']\n",
        "idx = df1.duplicated(subset=subset)\n",
        "df1.loc[idx].shape[0]"
      ],
      "metadata": {
        "colab": {
          "base_uri": "https://localhost:8080/"
        },
        "id": "BISbBJcdp4e_",
        "outputId": "b8bd2de0-df9d-4951-a524-bc653eb60c9d"
      },
      "execution_count": 107,
      "outputs": [
        {
          "output_type": "execute_result",
          "data": {
            "text/plain": [
              "6"
            ]
          },
          "metadata": {},
          "execution_count": 107
        }
      ]
    },
    {
      "cell_type": "code",
      "source": [
        "## Deletando dados duplicados\n",
        "df1 = df1.drop_duplicates(subset=subset)"
      ],
      "metadata": {
        "id": "GwkAuGT9q28L"
      },
      "execution_count": 108,
      "outputs": []
    },
    {
      "cell_type": "markdown",
      "source": [
        "# 2.0. FEATURE ENGENEERING"
      ],
      "metadata": {
        "id": "r37IcI4nmvv4"
      }
    },
    {
      "cell_type": "code",
      "source": [
        "df2 = df1.copy()"
      ],
      "metadata": {
        "id": "gYuvT1Psm10K"
      },
      "execution_count": 109,
      "outputs": []
    },
    {
      "cell_type": "markdown",
      "source": [
        "## 2.1. dist_to_prev"
      ],
      "metadata": {
        "id": "1rQN2ZxDp71l"
      }
    },
    {
      "cell_type": "code",
      "source": [
        "df2['latitude'].head(2)"
      ],
      "metadata": {
        "colab": {
          "base_uri": "https://localhost:8080/"
        },
        "id": "sbTNeRQ_nzwa",
        "outputId": "5b8f45f8-3ee5-4caa-8940-37b56d561a6c"
      },
      "execution_count": 110,
      "outputs": [
        {
          "output_type": "execute_result",
          "data": {
            "text/plain": [
              "11756    40.750943\n",
              "16797    40.781517\n",
              "Name: latitude, dtype: float64"
            ]
          },
          "metadata": {},
          "execution_count": 110
        }
      ]
    },
    {
      "cell_type": "code",
      "source": [
        "df2['latitude'].shift(1).head(2)"
      ],
      "metadata": {
        "colab": {
          "base_uri": "https://localhost:8080/"
        },
        "id": "8c1RtBIHn5Se",
        "outputId": "76277cb3-cd52-455e-d408-a388e203f0e5"
      },
      "execution_count": 111,
      "outputs": [
        {
          "output_type": "execute_result",
          "data": {
            "text/plain": [
              "11756          NaN\n",
              "16797    40.750943\n",
              "Name: latitude, dtype: float64"
            ]
          },
          "metadata": {},
          "execution_count": 111
        }
      ]
    },
    {
      "cell_type": "code",
      "source": [
        "prev_lat = df2['latitude'].shift(1)\n",
        "prev_lon = df2['longitude'].shift(1)\n",
        "df2['dist_to_prev'] = haversine(prev_lat,prev_lon, df2['latitude'],df2['longitude'])\n",
        "df2.head()"
      ],
      "metadata": {
        "colab": {
          "base_uri": "https://localhost:8080/",
          "height": 357
        },
        "id": "eA10jIm3oBae",
        "outputId": "d3502e54-5b81-4583-a287-019e7fc92e7b"
      },
      "execution_count": 112,
      "outputs": [
        {
          "output_type": "execute_result",
          "data": {
            "text/plain": [
              "      userId                   venueId           venueCategoryId  \\\n",
              "11756      8  4afd6918f964a520a82722e3  4bf58dd8d48988d124941735   \n",
              "16797      8  4c2a4bc9b1ddc9b661e052fb  4bf58dd8d48988d130941735   \n",
              "17547      8  4ad854bbf964a5200b1121e3  4bf58dd8d48988d175941735   \n",
              "29012      8  4ad854bbf964a5200b1121e3  4bf58dd8d48988d175941735   \n",
              "30329      8  4ad854bbf964a5200b1121e3  4bf58dd8d48988d175941735   \n",
              "\n",
              "              venueCategory   latitude  longitude  timezoneOffset  \\\n",
              "11756                Office  40.750943 -74.006196            -240   \n",
              "16797              Building  40.781517 -73.979738            -240   \n",
              "17547  Gym / Fitness Center  40.781333 -73.979650            -240   \n",
              "29012  Gym / Fitness Center  40.781333 -73.979650            -240   \n",
              "30329  Gym / Fitness Center  40.781333 -73.979650            -240   \n",
              "\n",
              "             utcTimestamp  dist_to_prev  \n",
              "11756 2012-04-12 14:11:54           NaN  \n",
              "16797 2012-04-14 23:25:21   4064.785113  \n",
              "17547 2012-04-15 12:28:14     21.760173  \n",
              "29012 2012-04-21 17:12:07      0.000000  \n",
              "30329 2012-04-22 12:16:34      0.000000  "
            ],
            "text/html": [
              "\n",
              "  <div id=\"df-282d62f1-b6d2-443d-a7bb-62a02001c763\">\n",
              "    <div class=\"colab-df-container\">\n",
              "      <div>\n",
              "<style scoped>\n",
              "    .dataframe tbody tr th:only-of-type {\n",
              "        vertical-align: middle;\n",
              "    }\n",
              "\n",
              "    .dataframe tbody tr th {\n",
              "        vertical-align: top;\n",
              "    }\n",
              "\n",
              "    .dataframe thead th {\n",
              "        text-align: right;\n",
              "    }\n",
              "</style>\n",
              "<table border=\"1\" class=\"dataframe\">\n",
              "  <thead>\n",
              "    <tr style=\"text-align: right;\">\n",
              "      <th></th>\n",
              "      <th>userId</th>\n",
              "      <th>venueId</th>\n",
              "      <th>venueCategoryId</th>\n",
              "      <th>venueCategory</th>\n",
              "      <th>latitude</th>\n",
              "      <th>longitude</th>\n",
              "      <th>timezoneOffset</th>\n",
              "      <th>utcTimestamp</th>\n",
              "      <th>dist_to_prev</th>\n",
              "    </tr>\n",
              "  </thead>\n",
              "  <tbody>\n",
              "    <tr>\n",
              "      <th>11756</th>\n",
              "      <td>8</td>\n",
              "      <td>4afd6918f964a520a82722e3</td>\n",
              "      <td>4bf58dd8d48988d124941735</td>\n",
              "      <td>Office</td>\n",
              "      <td>40.750943</td>\n",
              "      <td>-74.006196</td>\n",
              "      <td>-240</td>\n",
              "      <td>2012-04-12 14:11:54</td>\n",
              "      <td>NaN</td>\n",
              "    </tr>\n",
              "    <tr>\n",
              "      <th>16797</th>\n",
              "      <td>8</td>\n",
              "      <td>4c2a4bc9b1ddc9b661e052fb</td>\n",
              "      <td>4bf58dd8d48988d130941735</td>\n",
              "      <td>Building</td>\n",
              "      <td>40.781517</td>\n",
              "      <td>-73.979738</td>\n",
              "      <td>-240</td>\n",
              "      <td>2012-04-14 23:25:21</td>\n",
              "      <td>4064.785113</td>\n",
              "    </tr>\n",
              "    <tr>\n",
              "      <th>17547</th>\n",
              "      <td>8</td>\n",
              "      <td>4ad854bbf964a5200b1121e3</td>\n",
              "      <td>4bf58dd8d48988d175941735</td>\n",
              "      <td>Gym / Fitness Center</td>\n",
              "      <td>40.781333</td>\n",
              "      <td>-73.979650</td>\n",
              "      <td>-240</td>\n",
              "      <td>2012-04-15 12:28:14</td>\n",
              "      <td>21.760173</td>\n",
              "    </tr>\n",
              "    <tr>\n",
              "      <th>29012</th>\n",
              "      <td>8</td>\n",
              "      <td>4ad854bbf964a5200b1121e3</td>\n",
              "      <td>4bf58dd8d48988d175941735</td>\n",
              "      <td>Gym / Fitness Center</td>\n",
              "      <td>40.781333</td>\n",
              "      <td>-73.979650</td>\n",
              "      <td>-240</td>\n",
              "      <td>2012-04-21 17:12:07</td>\n",
              "      <td>0.000000</td>\n",
              "    </tr>\n",
              "    <tr>\n",
              "      <th>30329</th>\n",
              "      <td>8</td>\n",
              "      <td>4ad854bbf964a5200b1121e3</td>\n",
              "      <td>4bf58dd8d48988d175941735</td>\n",
              "      <td>Gym / Fitness Center</td>\n",
              "      <td>40.781333</td>\n",
              "      <td>-73.979650</td>\n",
              "      <td>-240</td>\n",
              "      <td>2012-04-22 12:16:34</td>\n",
              "      <td>0.000000</td>\n",
              "    </tr>\n",
              "  </tbody>\n",
              "</table>\n",
              "</div>\n",
              "      <button class=\"colab-df-convert\" onclick=\"convertToInteractive('df-282d62f1-b6d2-443d-a7bb-62a02001c763')\"\n",
              "              title=\"Convert this dataframe to an interactive table.\"\n",
              "              style=\"display:none;\">\n",
              "        \n",
              "  <svg xmlns=\"http://www.w3.org/2000/svg\" height=\"24px\"viewBox=\"0 0 24 24\"\n",
              "       width=\"24px\">\n",
              "    <path d=\"M0 0h24v24H0V0z\" fill=\"none\"/>\n",
              "    <path d=\"M18.56 5.44l.94 2.06.94-2.06 2.06-.94-2.06-.94-.94-2.06-.94 2.06-2.06.94zm-11 1L8.5 8.5l.94-2.06 2.06-.94-2.06-.94L8.5 2.5l-.94 2.06-2.06.94zm10 10l.94 2.06.94-2.06 2.06-.94-2.06-.94-.94-2.06-.94 2.06-2.06.94z\"/><path d=\"M17.41 7.96l-1.37-1.37c-.4-.4-.92-.59-1.43-.59-.52 0-1.04.2-1.43.59L10.3 9.45l-7.72 7.72c-.78.78-.78 2.05 0 2.83L4 21.41c.39.39.9.59 1.41.59.51 0 1.02-.2 1.41-.59l7.78-7.78 2.81-2.81c.8-.78.8-2.07 0-2.86zM5.41 20L4 18.59l7.72-7.72 1.47 1.35L5.41 20z\"/>\n",
              "  </svg>\n",
              "      </button>\n",
              "      \n",
              "  <style>\n",
              "    .colab-df-container {\n",
              "      display:flex;\n",
              "      flex-wrap:wrap;\n",
              "      gap: 12px;\n",
              "    }\n",
              "\n",
              "    .colab-df-convert {\n",
              "      background-color: #E8F0FE;\n",
              "      border: none;\n",
              "      border-radius: 50%;\n",
              "      cursor: pointer;\n",
              "      display: none;\n",
              "      fill: #1967D2;\n",
              "      height: 32px;\n",
              "      padding: 0 0 0 0;\n",
              "      width: 32px;\n",
              "    }\n",
              "\n",
              "    .colab-df-convert:hover {\n",
              "      background-color: #E2EBFA;\n",
              "      box-shadow: 0px 1px 2px rgba(60, 64, 67, 0.3), 0px 1px 3px 1px rgba(60, 64, 67, 0.15);\n",
              "      fill: #174EA6;\n",
              "    }\n",
              "\n",
              "    [theme=dark] .colab-df-convert {\n",
              "      background-color: #3B4455;\n",
              "      fill: #D2E3FC;\n",
              "    }\n",
              "\n",
              "    [theme=dark] .colab-df-convert:hover {\n",
              "      background-color: #434B5C;\n",
              "      box-shadow: 0px 1px 3px 1px rgba(0, 0, 0, 0.15);\n",
              "      filter: drop-shadow(0px 1px 2px rgba(0, 0, 0, 0.3));\n",
              "      fill: #FFFFFF;\n",
              "    }\n",
              "  </style>\n",
              "\n",
              "      <script>\n",
              "        const buttonEl =\n",
              "          document.querySelector('#df-282d62f1-b6d2-443d-a7bb-62a02001c763 button.colab-df-convert');\n",
              "        buttonEl.style.display =\n",
              "          google.colab.kernel.accessAllowed ? 'block' : 'none';\n",
              "\n",
              "        async function convertToInteractive(key) {\n",
              "          const element = document.querySelector('#df-282d62f1-b6d2-443d-a7bb-62a02001c763');\n",
              "          const dataTable =\n",
              "            await google.colab.kernel.invokeFunction('convertToInteractive',\n",
              "                                                     [key], {});\n",
              "          if (!dataTable) return;\n",
              "\n",
              "          const docLinkHtml = 'Like what you see? Visit the ' +\n",
              "            '<a target=\"_blank\" href=https://colab.research.google.com/notebooks/data_table.ipynb>data table notebook</a>'\n",
              "            + ' to learn more about interactive tables.';\n",
              "          element.innerHTML = '';\n",
              "          dataTable['output_type'] = 'display_data';\n",
              "          await google.colab.output.renderOutput(dataTable, element);\n",
              "          const docLink = document.createElement('div');\n",
              "          docLink.innerHTML = docLinkHtml;\n",
              "          element.appendChild(docLink);\n",
              "        }\n",
              "      </script>\n",
              "    </div>\n",
              "  </div>\n",
              "  "
            ]
          },
          "metadata": {},
          "execution_count": 112
        }
      ]
    },
    {
      "cell_type": "code",
      "source": [
        "df2.set_index('userId',inplace=True)\n",
        "users = df2.index"
      ],
      "metadata": {
        "id": "Xlwm1Gueqmlp"
      },
      "execution_count": 113,
      "outputs": []
    },
    {
      "cell_type": "code",
      "source": [
        "for u in tqdm(users):\n",
        "  curr_lat = df2.at[u,'latitude']\n",
        "  curr_lon = df2.at[u,'longitude']\n",
        "\n",
        "  size_id = curr_lat.size\n",
        "\n",
        "  if size_id <= 1:\n",
        "    print('...id:(), must have at least 2 GPS points\\n'.format(idx))\n",
        "    df2.at[u, 'dist_to_prev'] = np.nan\n",
        "\n",
        "  else :\n",
        "    prev_lat = curr_lat.shift(1)\n",
        "    prev_lon = curr_lon.shift(1)\n",
        "\n",
        "    df2.at[u, 'dist_to_prev'] = haversine(prev_lat, prev_lon, curr_lat, curr_lon)"
      ],
      "metadata": {
        "colab": {
          "base_uri": "https://localhost:8080/",
          "height": 49,
          "referenced_widgets": [
            "48db08f8d6c24d91b7005b26a2fc5826",
            "6933a2602e5f49938fc49b3e70d37dd0",
            "9934331204c644cea0ee03e51b393ee5",
            "ecedc1a3d37547b08d74fd922c7c6da9",
            "a9d6a97159e1452ba93302ec42dec5c4",
            "81f91ec0545947ceae52dbc87e6d3573",
            "7996bc0e1ca3441eb204c4256c744efd",
            "9917b36a2c08460e9e37be0230b5b53b",
            "4b983f42b4224e66879b7da41cf129e3",
            "0374840a40a84f6eac1336c8d04322aa",
            "9effbf0fb5c24bf5b9fafcfb7cff228d"
          ]
        },
        "id": "HuhFs6vJqqTI",
        "outputId": "122cdf2a-7cdc-468b-9490-3bd8189decc0"
      },
      "execution_count": 114,
      "outputs": [
        {
          "output_type": "display_data",
          "data": {
            "text/plain": [
              "  0%|          | 0/4795 [00:00<?, ?it/s]"
            ],
            "application/vnd.jupyter.widget-view+json": {
              "version_major": 2,
              "version_minor": 0,
              "model_id": "48db08f8d6c24d91b7005b26a2fc5826"
            }
          },
          "metadata": {}
        }
      ]
    },
    {
      "cell_type": "code",
      "source": [
        "df2.at[u,'dist_to_prev'] = haversine(prev_lat,prev_lon,curr_lat,curr_lon)"
      ],
      "metadata": {
        "id": "-7Yx54ljrVsP"
      },
      "execution_count": 115,
      "outputs": []
    },
    {
      "cell_type": "markdown",
      "source": [
        "## 2.2. time_to_prev"
      ],
      "metadata": {
        "id": "6-STVUJursKd"
      }
    },
    {
      "cell_type": "code",
      "source": [
        "df2['time_to_prev']=-1.0\n",
        "\n",
        "for u in tqdm(users):\n",
        "  curr_lat = list(df2.at[u,'latitude'])[0]\n",
        "  curr_lon = list(df2.at[u,'longitude'])[0]\n",
        "\n",
        "  size_id = curr_lat\n",
        "  \n",
        "\n",
        "  if size_id <= 1:\n",
        "    print('...id:(), must have at least 2 GPS points\\n'.format(idx))\n",
        "    df2.at[u,'time_to_prev']=np.nan\n",
        "  else:\n",
        "    time_curr = pd.Series(df2.at[u,'utcTimestamp'])\n",
        "    time_prev = (time_curr - time_curr.shift(1))\n",
        "    df2.at[u,'time_to_prev']= time_prev"
      ],
      "metadata": {
        "colab": {
          "base_uri": "https://localhost:8080/",
          "height": 49,
          "referenced_widgets": [
            "b0a94dc75f014741b1a34312ad9cab0b",
            "ffc671cf3381411e8e9ef726193bcdd1",
            "6072dd3d60624e4d95ffe06ee4b9a255",
            "9247e556d4d4442699db12f80fc12775",
            "34bb376a6c9449bbaf0bbba37b932055",
            "7311013edc3b4af8a9eef135706bed25",
            "398ab5933af34722bc44b5b982523fa7",
            "0762e41eacdd4762841025ccc0fc0208",
            "d17f2985ad68493384b9d804e8b1ed1b",
            "2216f0d042cc4ce3a4f2cb6c8ac16395",
            "4fe77e0be1f44db3bf82216c0e781f8f"
          ]
        },
        "id": "26AR3vdLrspC",
        "outputId": "f561c8ce-718f-4320-f1c3-959f76a04be7"
      },
      "execution_count": 116,
      "outputs": [
        {
          "output_type": "display_data",
          "data": {
            "text/plain": [
              "  0%|          | 0/4795 [00:00<?, ?it/s]"
            ],
            "application/vnd.jupyter.widget-view+json": {
              "version_major": 2,
              "version_minor": 0,
              "model_id": "b0a94dc75f014741b1a34312ad9cab0b"
            }
          },
          "metadata": {}
        }
      ]
    },
    {
      "cell_type": "code",
      "source": [
        "df2['time_to_prev'].head()"
      ],
      "metadata": {
        "colab": {
          "base_uri": "https://localhost:8080/"
        },
        "id": "1qGvFCICsNGN",
        "outputId": "bb767364-8aae-481e-fcb8-0304647792f3"
      },
      "execution_count": 117,
      "outputs": [
        {
          "output_type": "execute_result",
          "data": {
            "text/plain": [
              "userId\n",
              "8                NaT\n",
              "8    2 days 09:13:27\n",
              "8    0 days 13:02:53\n",
              "8    6 days 04:43:53\n",
              "8    0 days 19:04:27\n",
              "Name: time_to_prev, dtype: object"
            ]
          },
          "metadata": {},
          "execution_count": 117
        }
      ]
    },
    {
      "cell_type": "markdown",
      "source": [
        "## 2.3. time_to_prev e speed_to_prev"
      ],
      "metadata": {
        "id": "moTOxqLxsZNI"
      }
    },
    {
      "cell_type": "code",
      "source": [
        "df2['time_to_prev'] = pd.to_timedelta(df2['time_to_prev']).dt.total_seconds()\n",
        "df2['speed_to_prev'] = df2['dist_to_prev']/df2['time_to_prev']\n",
        "df2.describe(percentiles=[0.90,0.95,0.99])"
      ],
      "metadata": {
        "colab": {
          "base_uri": "https://localhost:8080/",
          "height": 332
        },
        "id": "K0o4mTINsZgT",
        "outputId": "cd437a3f-178f-47ec-8206-67a569b7062e"
      },
      "execution_count": 118,
      "outputs": [
        {
          "output_type": "execute_result",
          "data": {
            "text/plain": [
              "          latitude    longitude  timezoneOffset  dist_to_prev  time_to_prev  \\\n",
              "count  4795.000000  4795.000000     4795.000000   4775.000000  4.775000e+03   \n",
              "mean     40.745015   -73.953601     -251.436913   4061.654803  8.899712e+04   \n",
              "std       0.069633     0.092990       23.569635   5414.254255  2.943027e+05   \n",
              "min      40.573348   -74.261637     -300.000000      0.000000  1.000000e+00   \n",
              "50%      40.745649   -73.967332     -240.000000   1640.889914  1.368500e+04   \n",
              "90%      40.848395   -73.811592     -240.000000  11465.035995  1.902090e+05   \n",
              "95%      40.861493   -73.806603     -240.000000  16925.560806  3.837526e+05   \n",
              "99%      40.874292   -73.789090     -240.000000  22803.220633  1.196801e+06   \n",
              "max      40.976245   -73.702309     -240.000000  34252.008299  7.741761e+06   \n",
              "\n",
              "       speed_to_prev  \n",
              "count    4775.000000  \n",
              "mean        6.241642  \n",
              "std        33.713121  \n",
              "min         0.000000  \n",
              "50%         0.173405  \n",
              "90%        10.576787  \n",
              "95%        23.974585  \n",
              "99%       134.399508  \n",
              "max      1317.484051  "
            ],
            "text/html": [
              "\n",
              "  <div id=\"df-66d8bd3d-2765-4860-9ef2-7adac9c9bc04\">\n",
              "    <div class=\"colab-df-container\">\n",
              "      <div>\n",
              "<style scoped>\n",
              "    .dataframe tbody tr th:only-of-type {\n",
              "        vertical-align: middle;\n",
              "    }\n",
              "\n",
              "    .dataframe tbody tr th {\n",
              "        vertical-align: top;\n",
              "    }\n",
              "\n",
              "    .dataframe thead th {\n",
              "        text-align: right;\n",
              "    }\n",
              "</style>\n",
              "<table border=\"1\" class=\"dataframe\">\n",
              "  <thead>\n",
              "    <tr style=\"text-align: right;\">\n",
              "      <th></th>\n",
              "      <th>latitude</th>\n",
              "      <th>longitude</th>\n",
              "      <th>timezoneOffset</th>\n",
              "      <th>dist_to_prev</th>\n",
              "      <th>time_to_prev</th>\n",
              "      <th>speed_to_prev</th>\n",
              "    </tr>\n",
              "  </thead>\n",
              "  <tbody>\n",
              "    <tr>\n",
              "      <th>count</th>\n",
              "      <td>4795.000000</td>\n",
              "      <td>4795.000000</td>\n",
              "      <td>4795.000000</td>\n",
              "      <td>4775.000000</td>\n",
              "      <td>4.775000e+03</td>\n",
              "      <td>4775.000000</td>\n",
              "    </tr>\n",
              "    <tr>\n",
              "      <th>mean</th>\n",
              "      <td>40.745015</td>\n",
              "      <td>-73.953601</td>\n",
              "      <td>-251.436913</td>\n",
              "      <td>4061.654803</td>\n",
              "      <td>8.899712e+04</td>\n",
              "      <td>6.241642</td>\n",
              "    </tr>\n",
              "    <tr>\n",
              "      <th>std</th>\n",
              "      <td>0.069633</td>\n",
              "      <td>0.092990</td>\n",
              "      <td>23.569635</td>\n",
              "      <td>5414.254255</td>\n",
              "      <td>2.943027e+05</td>\n",
              "      <td>33.713121</td>\n",
              "    </tr>\n",
              "    <tr>\n",
              "      <th>min</th>\n",
              "      <td>40.573348</td>\n",
              "      <td>-74.261637</td>\n",
              "      <td>-300.000000</td>\n",
              "      <td>0.000000</td>\n",
              "      <td>1.000000e+00</td>\n",
              "      <td>0.000000</td>\n",
              "    </tr>\n",
              "    <tr>\n",
              "      <th>50%</th>\n",
              "      <td>40.745649</td>\n",
              "      <td>-73.967332</td>\n",
              "      <td>-240.000000</td>\n",
              "      <td>1640.889914</td>\n",
              "      <td>1.368500e+04</td>\n",
              "      <td>0.173405</td>\n",
              "    </tr>\n",
              "    <tr>\n",
              "      <th>90%</th>\n",
              "      <td>40.848395</td>\n",
              "      <td>-73.811592</td>\n",
              "      <td>-240.000000</td>\n",
              "      <td>11465.035995</td>\n",
              "      <td>1.902090e+05</td>\n",
              "      <td>10.576787</td>\n",
              "    </tr>\n",
              "    <tr>\n",
              "      <th>95%</th>\n",
              "      <td>40.861493</td>\n",
              "      <td>-73.806603</td>\n",
              "      <td>-240.000000</td>\n",
              "      <td>16925.560806</td>\n",
              "      <td>3.837526e+05</td>\n",
              "      <td>23.974585</td>\n",
              "    </tr>\n",
              "    <tr>\n",
              "      <th>99%</th>\n",
              "      <td>40.874292</td>\n",
              "      <td>-73.789090</td>\n",
              "      <td>-240.000000</td>\n",
              "      <td>22803.220633</td>\n",
              "      <td>1.196801e+06</td>\n",
              "      <td>134.399508</td>\n",
              "    </tr>\n",
              "    <tr>\n",
              "      <th>max</th>\n",
              "      <td>40.976245</td>\n",
              "      <td>-73.702309</td>\n",
              "      <td>-240.000000</td>\n",
              "      <td>34252.008299</td>\n",
              "      <td>7.741761e+06</td>\n",
              "      <td>1317.484051</td>\n",
              "    </tr>\n",
              "  </tbody>\n",
              "</table>\n",
              "</div>\n",
              "      <button class=\"colab-df-convert\" onclick=\"convertToInteractive('df-66d8bd3d-2765-4860-9ef2-7adac9c9bc04')\"\n",
              "              title=\"Convert this dataframe to an interactive table.\"\n",
              "              style=\"display:none;\">\n",
              "        \n",
              "  <svg xmlns=\"http://www.w3.org/2000/svg\" height=\"24px\"viewBox=\"0 0 24 24\"\n",
              "       width=\"24px\">\n",
              "    <path d=\"M0 0h24v24H0V0z\" fill=\"none\"/>\n",
              "    <path d=\"M18.56 5.44l.94 2.06.94-2.06 2.06-.94-2.06-.94-.94-2.06-.94 2.06-2.06.94zm-11 1L8.5 8.5l.94-2.06 2.06-.94-2.06-.94L8.5 2.5l-.94 2.06-2.06.94zm10 10l.94 2.06.94-2.06 2.06-.94-2.06-.94-.94-2.06-.94 2.06-2.06.94z\"/><path d=\"M17.41 7.96l-1.37-1.37c-.4-.4-.92-.59-1.43-.59-.52 0-1.04.2-1.43.59L10.3 9.45l-7.72 7.72c-.78.78-.78 2.05 0 2.83L4 21.41c.39.39.9.59 1.41.59.51 0 1.02-.2 1.41-.59l7.78-7.78 2.81-2.81c.8-.78.8-2.07 0-2.86zM5.41 20L4 18.59l7.72-7.72 1.47 1.35L5.41 20z\"/>\n",
              "  </svg>\n",
              "      </button>\n",
              "      \n",
              "  <style>\n",
              "    .colab-df-container {\n",
              "      display:flex;\n",
              "      flex-wrap:wrap;\n",
              "      gap: 12px;\n",
              "    }\n",
              "\n",
              "    .colab-df-convert {\n",
              "      background-color: #E8F0FE;\n",
              "      border: none;\n",
              "      border-radius: 50%;\n",
              "      cursor: pointer;\n",
              "      display: none;\n",
              "      fill: #1967D2;\n",
              "      height: 32px;\n",
              "      padding: 0 0 0 0;\n",
              "      width: 32px;\n",
              "    }\n",
              "\n",
              "    .colab-df-convert:hover {\n",
              "      background-color: #E2EBFA;\n",
              "      box-shadow: 0px 1px 2px rgba(60, 64, 67, 0.3), 0px 1px 3px 1px rgba(60, 64, 67, 0.15);\n",
              "      fill: #174EA6;\n",
              "    }\n",
              "\n",
              "    [theme=dark] .colab-df-convert {\n",
              "      background-color: #3B4455;\n",
              "      fill: #D2E3FC;\n",
              "    }\n",
              "\n",
              "    [theme=dark] .colab-df-convert:hover {\n",
              "      background-color: #434B5C;\n",
              "      box-shadow: 0px 1px 3px 1px rgba(0, 0, 0, 0.15);\n",
              "      filter: drop-shadow(0px 1px 2px rgba(0, 0, 0, 0.3));\n",
              "      fill: #FFFFFF;\n",
              "    }\n",
              "  </style>\n",
              "\n",
              "      <script>\n",
              "        const buttonEl =\n",
              "          document.querySelector('#df-66d8bd3d-2765-4860-9ef2-7adac9c9bc04 button.colab-df-convert');\n",
              "        buttonEl.style.display =\n",
              "          google.colab.kernel.accessAllowed ? 'block' : 'none';\n",
              "\n",
              "        async function convertToInteractive(key) {\n",
              "          const element = document.querySelector('#df-66d8bd3d-2765-4860-9ef2-7adac9c9bc04');\n",
              "          const dataTable =\n",
              "            await google.colab.kernel.invokeFunction('convertToInteractive',\n",
              "                                                     [key], {});\n",
              "          if (!dataTable) return;\n",
              "\n",
              "          const docLinkHtml = 'Like what you see? Visit the ' +\n",
              "            '<a target=\"_blank\" href=https://colab.research.google.com/notebooks/data_table.ipynb>data table notebook</a>'\n",
              "            + ' to learn more about interactive tables.';\n",
              "          element.innerHTML = '';\n",
              "          dataTable['output_type'] = 'display_data';\n",
              "          await google.colab.output.renderOutput(dataTable, element);\n",
              "          const docLink = document.createElement('div');\n",
              "          docLink.innerHTML = docLinkHtml;\n",
              "          element.appendChild(docLink);\n",
              "        }\n",
              "      </script>\n",
              "    </div>\n",
              "  </div>\n",
              "  "
            ]
          },
          "metadata": {},
          "execution_count": 118
        }
      ]
    },
    {
      "cell_type": "code",
      "source": [
        "df2['speed_to_prev'].plot()"
      ],
      "metadata": {
        "colab": {
          "base_uri": "https://localhost:8080/",
          "height": 296
        },
        "id": "EAAH6oNUs2KV",
        "outputId": "a68e17e4-0bcb-446f-ba4c-139bd7172e30"
      },
      "execution_count": 119,
      "outputs": [
        {
          "output_type": "execute_result",
          "data": {
            "text/plain": [
              "<matplotlib.axes._subplots.AxesSubplot at 0x7f4524afde50>"
            ]
          },
          "metadata": {},
          "execution_count": 119
        },
        {
          "output_type": "display_data",
          "data": {
            "text/plain": [
              "<Figure size 432x288 with 1 Axes>"
            ],
            "image/png": "[encoded data removed]"
          },
          "metadata": {
            "needs_background": "light"
          }
        }
      ]
    },
    {
      "cell_type": "code",
      "source": [
        "fig, ax = plt.subplots(figsize=(8,5))\n",
        "df2.plot('longitude','latitude',kind='scatter', color='r', ax=ax)"
      ],
      "metadata": {
        "colab": {
          "base_uri": "https://localhost:8080/",
          "height": 351
        },
        "id": "2I8mVT3ptD_k",
        "outputId": "dab6ee59-a132-4cb3-9d3a-c239b3e8824a"
      },
      "execution_count": 120,
      "outputs": [
        {
          "output_type": "execute_result",
          "data": {
            "text/plain": [
              "<matplotlib.axes._subplots.AxesSubplot at 0x7f4524a64a30>"
            ]
          },
          "metadata": {},
          "execution_count": 120
        },
        {
          "output_type": "display_data",
          "data": {
            "text/plain": [
              "<Figure size 576x360 with 1 Axes>"
            ],
            "image/png": "[encoded data removed]"
          },
          "metadata": {
            "needs_background": "light"
          }
        }
      ]
    },
    {
      "cell_type": "code",
      "source": [
        "df2 = df2[df2['speed_to_prev'].isna()==False]"
      ],
      "metadata": {
        "id": "O9L6SEz9tOv7"
      },
      "execution_count": 121,
      "outputs": []
    },
    {
      "cell_type": "code",
      "source": [
        "user_to_drop = df2[df2['speed_to_prev']>20].index\n",
        "df2.drop(user_to_drop, inplace=True)\n",
        "print('{} pontos foram removidos.'.format(len(user_to_drop)))"
      ],
      "metadata": {
        "colab": {
          "base_uri": "https://localhost:8080/"
        },
        "id": "EQHXu_QXtWxq",
        "outputId": "02aa1a0e-1bb5-4706-8039-af86ed9555e9"
      },
      "execution_count": 122,
      "outputs": [
        {
          "output_type": "stream",
          "name": "stdout",
          "text": [
            "289 pontos foram removidos.\n"
          ]
        },
        {
          "output_type": "stream",
          "name": "stderr",
          "text": [
            "/usr/local/lib/python3.8/dist-packages/pandas/core/frame.py:4906: SettingWithCopyWarning: \n",
            "A value is trying to be set on a copy of a slice from a DataFrame\n",
            "\n",
            "See the caveats in the documentation: https://pandas.pydata.org/pandas-docs/stable/user_guide/indexing.html#returning-a-view-versus-a-copy\n",
            "  return super().drop(\n"
          ]
        }
      ]
    },
    {
      "cell_type": "markdown",
      "source": [
        "# 3.0. DATA VISUALIZATION"
      ],
      "metadata": {
        "id": "L-YeOR5hjh0A"
      }
    },
    {
      "cell_type": "code",
      "source": [
        "df3 = df2.copy()"
      ],
      "metadata": {
        "id": "avshc4rKl6NA"
      },
      "execution_count": 124,
      "outputs": []
    },
    {
      "cell_type": "markdown",
      "source": [
        "## 3.1. Visualizando o mapa da trajetória."
      ],
      "metadata": {
        "id": "7we5qmWQsZB5"
      }
    },
    {
      "cell_type": "code",
      "source": [
        "userId = list(df3['userId'])[0]\n",
        "df_aux,fig = show_traj_by_userId(df3,userId=userId)\n",
        "mpl.display(fig, tiles='cartodb_positron')"
      ],
      "metadata": {
        "colab": {
          "base_uri": "https://localhost:8080/",
          "height": 697
        },
        "id": "89Sb7JeHw_zA",
        "outputId": "6acfd3b9-df38-46db-adc0-5eb41ca6e5eb"
      },
      "execution_count": 135,
      "outputs": [
        {
          "output_type": "stream",
          "name": "stdout",
          "text": [
            "shape total: 1478   shape for id (): 8\n"
          ]
        },
        {
          "output_type": "stream",
          "name": "stderr",
          "text": [
            "/usr/local/lib/python3.8/dist-packages/IPython/core/display.py:701: UserWarning: Consider using IPython.display.IFrame instead\n",
            "  warnings.warn(\"Consider using IPython.display.IFrame instead\")\n"
          ]
        },
        {
          "output_type": "execute_result",
          "data": {
            "text/plain": [
              "<IPython.core.display.HTML object>"
            ],
            "text/html": [
              "<iframe src=\"data:text/html;base64,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\" width=\"100%\" height=\"600\"></iframe>"
            ]
          },
          "metadata": {},
          "execution_count": 135
        }
      ]
    },
    {
      "cell_type": "markdown",
      "source": [
        "## 3.2. Visualizando dados com o Folium"
      ],
      "metadata": {
        "id": "iTpNzCaftk8O"
      }
    },
    {
      "cell_type": "code",
      "source": [
        "base_map = folium.Map(location=[df3['latitude'].mean(), df3['longitude'].mean()],\n",
        "                      control_scale=True,\n",
        "                      zoom_start=5)\n",
        "base_map"
      ],
      "metadata": {
        "colab": {
          "base_uri": "https://localhost:8080/",
          "height": 719
        },
        "id": "GOsB5olbtl6I",
        "outputId": "4ea764ca-6016-4eed-bad2-d342e19a6c1b"
      },
      "execution_count": 137,
      "outputs": [
        {
          "output_type": "execute_result",
          "data": {
            "text/plain": [
              "<folium.folium.Map at 0x7f4524a55970>"
            ],
            "text/html": [
              "<div style=\"width:100%;\"><div style=\"position:relative;width:100%;height:0;padding-bottom:60%;\"><span style=\"color:#565656\">Make this Notebook Trusted to load map: File -> Trust Notebook</span><iframe srcdoc=\"&lt;!DOCTYPE html&gt;\n",
              "&lt;html&gt;\n",
              "&lt;head&gt;\n",
              "    \n",
              "    &lt;meta http-equiv=&quot;content-type&quot; content=&quot;text/html; charset=UTF-8&quot; /&gt;\n",
              "    \n",
              "        &lt;script&gt;\n",
              "            L_NO_TOUCH = false;\n",
              "            L_DISABLE_3D = false;\n",
              "        &lt;/script&gt;\n",
              "    \n",
              "    &lt;style&gt;html, body {width: 100%;height: 100%;margin: 0;padding: 0;}&lt;/style&gt;\n",
              "    &lt;style&gt;#map {position:absolute;top:0;bottom:0;right:0;left:0;}&lt;/style&gt;\n",
              "    &lt;script src=&quot;https://cdn.jsdelivr.net/npm/leaflet@1.6.0/dist/leaflet.js&quot;&gt;&lt;/script&gt;\n",
              "    &lt;script src=&quot;https://code.jquery.com/jquery-1.12.4.min.js&quot;&gt;&lt;/script&gt;\n",
              "    &lt;script src=&quot;https://maxcdn.bootstrapcdn.com/bootstrap/3.2.0/js/bootstrap.min.js&quot;&gt;&lt;/script&gt;\n",
              "    &lt;script src=&quot;https://cdnjs.cloudflare.com/ajax/libs/Leaflet.awesome-markers/2.0.2/leaflet.awesome-markers.js&quot;&gt;&lt;/script&gt;\n",
              "    &lt;link rel=&quot;stylesheet&quot; href=&quot;https://cdn.jsdelivr.net/npm/leaflet@1.6.0/dist/leaflet.css&quot;/&gt;\n",
              "    &lt;link rel=&quot;stylesheet&quot; href=&quot;https://maxcdn.bootstrapcdn.com/bootstrap/3.2.0/css/bootstrap.min.css&quot;/&gt;\n",
              "    &lt;link rel=&quot;stylesheet&quot; href=&quot;https://maxcdn.bootstrapcdn.com/bootstrap/3.2.0/css/bootstrap-theme.min.css&quot;/&gt;\n",
              "    &lt;link rel=&quot;stylesheet&quot; href=&quot;https://maxcdn.bootstrapcdn.com/font-awesome/4.6.3/css/font-awesome.min.css&quot;/&gt;\n",
              "    &lt;link rel=&quot;stylesheet&quot; href=&quot;https://cdnjs.cloudflare.com/ajax/libs/Leaflet.awesome-markers/2.0.2/leaflet.awesome-markers.css&quot;/&gt;\n",
              "    &lt;link rel=&quot;stylesheet&quot; href=&quot;https://cdn.jsdelivr.net/gh/python-visualization/folium/folium/templates/leaflet.awesome.rotate.min.css&quot;/&gt;\n",
              "    \n",
              "            &lt;meta name=&quot;viewport&quot; content=&quot;width=device-width,\n",
              "                initial-scale=1.0, maximum-scale=1.0, user-scalable=no&quot; /&gt;\n",
              "            &lt;style&gt;\n",
              "                #map_09e3ed2c3a9fa38a29701fd6e94ce8c0 {\n",
              "                    position: relative;\n",
              "                    width: 100.0%;\n",
              "                    height: 100.0%;\n",
              "                    left: 0.0%;\n",
              "                    top: 0.0%;\n",
              "                }\n",
              "            &lt;/style&gt;\n",
              "        \n",
              "&lt;/head&gt;\n",
              "&lt;body&gt;\n",
              "    \n",
              "    \n",
              "            &lt;div class=&quot;folium-map&quot; id=&quot;map_09e3ed2c3a9fa38a29701fd6e94ce8c0&quot; &gt;&lt;/div&gt;\n",
              "        \n",
              "&lt;/body&gt;\n",
              "&lt;script&gt;\n",
              "    \n",
              "    \n",
              "            var map_09e3ed2c3a9fa38a29701fd6e94ce8c0 = L.map(\n",
              "                &quot;map_09e3ed2c3a9fa38a29701fd6e94ce8c0&quot;,\n",
              "                {\n",
              "                    center: [40.77025785602842, -74.01714956375507],\n",
              "                    crs: L.CRS.EPSG3857,\n",
              "                    zoom: 5,\n",
              "                    zoomControl: true,\n",
              "                    preferCanvas: false,\n",
              "                }\n",
              "            );\n",
              "            L.control.scale().addTo(map_09e3ed2c3a9fa38a29701fd6e94ce8c0);\n",
              "\n",
              "            \n",
              "\n",
              "        \n",
              "    \n",
              "            var tile_layer_2cbee25f2de1f3bf4b2e93804e09a747 = L.tileLayer(\n",
              "                &quot;https://{s}.tile.openstreetmap.org/{z}/{x}/{y}.png&quot;,\n",
              "                {&quot;attribution&quot;: &quot;Data by \\u0026copy; \\u003ca href=\\&quot;http://openstreetmap.org\\&quot;\\u003eOpenStreetMap\\u003c/a\\u003e, under \\u003ca href=\\&quot;http://www.openstreetmap.org/copyright\\&quot;\\u003eODbL\\u003c/a\\u003e.&quot;, &quot;detectRetina&quot;: false, &quot;maxNativeZoom&quot;: 18, &quot;maxZoom&quot;: 18, &quot;minZoom&quot;: 0, &quot;noWrap&quot;: false, &quot;opacity&quot;: 1, &quot;subdomains&quot;: &quot;abc&quot;, &quot;tms&quot;: false}\n",
              "            ).addTo(map_09e3ed2c3a9fa38a29701fd6e94ce8c0);\n",
              "        \n",
              "&lt;/script&gt;\n",
              "&lt;/html&gt;\" style=\"position:absolute;width:100%;height:100%;left:0;top:0;border:none !important;\" allowfullscreen webkitallowfullscreen mozallowfullscreen></iframe></div></div>"
            ]
          },
          "metadata": {},
          "execution_count": 137
        }
      ]
    },
    {
      "cell_type": "code",
      "source": [
        "users = df3['userId'].value_counts()\n",
        "map = add_traj_folium(df3[df3['userId']==users.index[0]], tiles='cartodbpositron')\n",
        "map"
      ],
      "metadata": {
        "id": "Ly0zRTOrHuaU",
        "colab": {
          "base_uri": "https://localhost:8080/",
          "height": 719
        },
        "outputId": "7e317594-404d-414f-a758-4eeb4294c1df"
      },
      "execution_count": 144,
      "outputs": [
        {
          "output_type": "execute_result",
          "data": {
            "text/plain": [
              "<folium.folium.Map at 0x7f4522bd1040>"
            ],
            "text/html": [
              "<div style=\"width:100%;\"><div style=\"position:relative;width:100%;height:0;padding-bottom:60%;\"><span style=\"color:#565656\">Make this Notebook Trusted to load map: File -> Trust Notebook</span><iframe srcdoc=\"&lt;!DOCTYPE html&gt;\n",
              "&lt;html&gt;\n",
              "&lt;head&gt;\n",
              "    \n",
              "    &lt;meta http-equiv=&quot;content-type&quot; content=&quot;text/html; charset=UTF-8&quot; /&gt;\n",
              "    \n",
              "        &lt;script&gt;\n",
              "            L_NO_TOUCH = false;\n",
              "            L_DISABLE_3D = false;\n",
              "        &lt;/script&gt;\n",
              "    \n",
              "    &lt;style&gt;html, body {width: 100%;height: 100%;margin: 0;padding: 0;}&lt;/style&gt;\n",
              "    &lt;style&gt;#map {position:absolute;top:0;bottom:0;right:0;left:0;}&lt;/style&gt;\n",
              "    &lt;script src=&quot;https://cdn.jsdelivr.net/npm/leaflet@1.6.0/dist/leaflet.js&quot;&gt;&lt;/script&gt;\n",
              "    &lt;script src=&quot;https://code.jquery.com/jquery-1.12.4.min.js&quot;&gt;&lt;/script&gt;\n",
              "    &lt;script src=&quot;https://maxcdn.bootstrapcdn.com/bootstrap/3.2.0/js/bootstrap.min.js&quot;&gt;&lt;/script&gt;\n",
              "    &lt;script src=&quot;https://cdnjs.cloudflare.com/ajax/libs/Leaflet.awesome-markers/2.0.2/leaflet.awesome-markers.js&quot;&gt;&lt;/script&gt;\n",
              "    &lt;link rel=&quot;stylesheet&quot; href=&quot;https://cdn.jsdelivr.net/npm/leaflet@1.6.0/dist/leaflet.css&quot;/&gt;\n",
              "    &lt;link rel=&quot;stylesheet&quot; href=&quot;https://maxcdn.bootstrapcdn.com/bootstrap/3.2.0/css/bootstrap.min.css&quot;/&gt;\n",
              "    &lt;link rel=&quot;stylesheet&quot; href=&quot;https://maxcdn.bootstrapcdn.com/bootstrap/3.2.0/css/bootstrap-theme.min.css&quot;/&gt;\n",
              "    &lt;link rel=&quot;stylesheet&quot; href=&quot;https://maxcdn.bootstrapcdn.com/font-awesome/4.6.3/css/font-awesome.min.css&quot;/&gt;\n",
              "    &lt;link rel=&quot;stylesheet&quot; href=&quot;https://cdnjs.cloudflare.com/ajax/libs/Leaflet.awesome-markers/2.0.2/leaflet.awesome-markers.css&quot;/&gt;\n",
              "    &lt;link rel=&quot;stylesheet&quot; href=&quot;https://cdn.jsdelivr.net/gh/python-visualization/folium/folium/templates/leaflet.awesome.rotate.min.css&quot;/&gt;\n",
              "    \n",
              "            &lt;meta name=&quot;viewport&quot; content=&quot;width=device-width,\n",
              "                initial-scale=1.0, maximum-scale=1.0, user-scalable=no&quot; /&gt;\n",
              "            &lt;style&gt;\n",
              "                #map_8a43a2f86a83ae3b1f82d7c4cf265bb3 {\n",
              "                    position: relative;\n",
              "                    width: 100.0%;\n",
              "                    height: 100.0%;\n",
              "                    left: 0.0%;\n",
              "                    top: 0.0%;\n",
              "                }\n",
              "            &lt;/style&gt;\n",
              "        \n",
              "&lt;/head&gt;\n",
              "&lt;body&gt;\n",
              "    \n",
              "    \n",
              "            &lt;div class=&quot;folium-map&quot; id=&quot;map_8a43a2f86a83ae3b1f82d7c4cf265bb3&quot; &gt;&lt;/div&gt;\n",
              "        \n",
              "&lt;/body&gt;\n",
              "&lt;script&gt;\n",
              "    \n",
              "    \n",
              "            var map_8a43a2f86a83ae3b1f82d7c4cf265bb3 = L.map(\n",
              "                &quot;map_8a43a2f86a83ae3b1f82d7c4cf265bb3&quot;,\n",
              "                {\n",
              "                    center: [40.85064477207668, -74.13890236623003],\n",
              "                    crs: L.CRS.EPSG3857,\n",
              "                    zoom: 10,\n",
              "                    zoomControl: true,\n",
              "                    preferCanvas: false,\n",
              "                    zoomStars: 5,\n",
              "                }\n",
              "            );\n",
              "            L.control.scale().addTo(map_8a43a2f86a83ae3b1f82d7c4cf265bb3);\n",
              "\n",
              "            \n",
              "\n",
              "        \n",
              "    \n",
              "            var tile_layer_c3b3ed65fd6aabfa74e24bee1a3a19f4 = L.tileLayer(\n",
              "                &quot;https://cartodb-basemaps-{s}.global.ssl.fastly.net/light_all/{z}/{x}/{y}.png&quot;,\n",
              "                {&quot;attribution&quot;: &quot;\\u0026copy; \\u003ca href=\\&quot;http://www.openstreetmap.org/copyright\\&quot;\\u003eOpenStreetMap\\u003c/a\\u003e contributors \\u0026copy; \\u003ca href=\\&quot;http://cartodb.com/attributions\\&quot;\\u003eCartoDB\\u003c/a\\u003e, CartoDB \\u003ca href =\\&quot;http://cartodb.com/attributions\\&quot;\\u003eattributions\\u003c/a\\u003e&quot;, &quot;detectRetina&quot;: false, &quot;maxNativeZoom&quot;: 18, &quot;maxZoom&quot;: 18, &quot;minZoom&quot;: 0, &quot;noWrap&quot;: false, &quot;opacity&quot;: 1, &quot;subdomains&quot;: &quot;abc&quot;, &quot;tms&quot;: false}\n",
              "            ).addTo(map_8a43a2f86a83ae3b1f82d7c4cf265bb3);\n",
              "        \n",
              "    \n",
              "            var poly_line_6fd218a7c4ee83a2883f73fbf5409d59 = L.polyline(\n",
              "                [[40.816129, -74.21840954], [40.85785364, -74.14799452], [40.85155841, -74.14161271], [40.87161002, -74.10911051], [40.85785364, -74.14799452], [40.85155841, -74.14161271], [40.85785364, -74.14799452], [40.85155841, -74.14161271], [40.88838298, -74.11188066], [40.85408634, -74.13833588], [40.80618073, -74.10409776], [40.92388971, -74.14093494], [40.83987941, -74.1342777], [40.85155841, -74.14161271], [40.82530613, -74.13810253], [40.85155841, -74.14161271], [40.87161002, -74.10911051], [40.87161002, -74.10911051], [40.85155841, -74.14161271], [40.82530613, -74.13810253], [40.85785364, -74.14799452], [40.79086847, -74.05867295], [40.77026176, -74.05811647], [40.85785364, -74.14799452], [40.85155841, -74.14161271], [40.82530613, -74.13810253], [40.816129, -74.21840954], [40.85408634, -74.13833588], [40.87429177, -74.19719696], [40.88292756, -74.10783153], [40.87216692, -74.11272947], [40.85785364, -74.14799452], [40.85155841, -74.14161271], [40.880532, -74.117144], [40.87216692, -74.11272947], [40.85785364, -74.14799452], [40.85155841, -74.14161271], [40.85155841, -74.14161271], [40.80618073, -74.10409776], [40.83987941, -74.1342777], [40.816129, -74.21840954], [40.85785364, -74.14799452], [40.85155841, -74.14161271], [40.87429177, -74.19719696], [40.8707769, -74.18019444], [40.85785364, -74.14799452], [40.85155841, -74.14161271], [40.85408634, -74.13833588], [40.85785364, -74.14799452], [40.85155841, -74.14161271], [40.80618073, -74.10409776], [40.824655, -74.098628], [40.85155841, -74.14161271], [40.82772137, -74.1392988], [40.91777713, -74.16923761], [40.85155841, -74.14161271], [40.88218315, -74.16804125], [40.85155841, -74.14161271], [40.85785364, -74.14799452], [40.85155841, -74.14161271], [40.85155841, -74.14161271], [40.85155841, -74.14161271], [40.82530613, -74.13810253], [40.85155841, -74.14161271], [40.80618073, -74.10409776], [40.73797525, -74.02742164], [40.85785364, -74.14799452], [40.85155841, -74.14161271], [40.85621647, -74.14466622], [40.85408634, -74.13833588], [40.85155841, -74.14161271], [40.9105755, -74.1308441], [40.85785364, -74.14799452], [40.85155841, -74.14161271], [40.87429177, -74.19719696], [40.87216692, -74.11272947], [40.85741263, -74.14721794], [40.85785364, -74.14799452], [40.85155841, -74.14161271], [40.87216692, -74.11272947], [40.85155841, -74.14161271], [40.80618073, -74.10409776], [40.88153679, -74.11253448], [40.85785364, -74.14799452], [40.9105755, -74.1308441], [40.85155841, -74.14161271], [40.73836119, -74.03060037], [40.85408634, -74.13833588], [40.85785364, -74.14799452], [40.85155841, -74.14161271], [40.89043808, -74.11135101], [40.9105755, -74.1308441], [40.85785364, -74.14799452], [40.85155841, -74.14161271], [40.89999885, -74.11969764], [40.85155841, -74.14161271], [40.85785364, -74.14799452], [40.85155841, -74.14161271], [40.85155841, -74.14161271], [40.85155841, -74.14161271], [40.824655, -74.098628], [40.85785364, -74.14799452], [40.85785364, -74.14799452], [40.85801019, -74.14769961], [40.85408634, -74.13833588], [40.85621647, -74.14466622], [40.87210607, -74.1124083], [40.85155841, -74.14161271], [40.85155841, -74.14161271], [40.85155841, -74.14161271], [40.87210607, -74.1124083], [40.85155841, -74.14161271], [40.85067457, -74.113108], [40.87210607, -74.1124083], [40.85408634, -74.13833588], [40.72478, -73.994703], [40.72478, -73.994703], [40.85801019, -74.14769961], [40.85785364, -74.14799452], [40.85785364, -74.14799452], [40.85067457, -74.113108], [40.82530613, -74.13810253], [40.85408634, -74.13833588], [40.85155841, -74.14161271], [40.85785364, -74.14799452], [40.85155841, -74.14161271], [40.78720282, -74.04624224], [40.85785364, -74.14799452], [40.87210607, -74.1124083], [40.85155841, -74.14161271], [40.86548092, -74.14837003], [40.816129, -74.21840954], [40.85408634, -74.13833588], [40.87056442, -74.10542839], [40.85155841, -74.14161271], [40.85785364, -74.14799452], [40.85785364, -74.14799452], [40.85785364, -74.14799452], [40.85155841, -74.14161271], [40.85677526, -74.14423042], [40.85677526, -74.14423042], [40.85785364, -74.14799452], [40.85785364, -74.14799452], [40.86585415, -74.1603756], [40.85785364, -74.14799452], [40.85155841, -74.14161271], [40.87210607, -74.1124083], [40.85155841, -74.14161271], [40.87210607, -74.1124083], [40.85785364, -74.14799452], [40.85155841, -74.14161271], [40.85155841, -74.14161271], [40.85155841, -74.14161271], [40.85785364, -74.14799452], [40.85155841, -74.14161271], [40.85155841, -74.14161271], [40.73836119, -74.03060037], [40.73797525, -74.02742164], [40.83673611, -74.15243626], [40.816129, -74.21840954], [40.85677526, -74.14423042], [40.85155841, -74.14161271], [40.80618073, -74.10409776], [40.85785364, -74.14799452], [40.87210607, -74.1124083], [40.85785364, -74.14799452], [40.85155841, -74.14161271], [40.85155841, -74.14161271], [40.85155841, -74.14161271], [40.88742755, -74.13846282], [40.816129, -74.21840954], [40.85801019, -74.14769961], [40.82530613, -74.13810253], [40.8721291, -74.099079], [40.880532, -74.117144], [40.85155841, -74.14161271], [40.83973439, -74.1587662], [40.83973439, -74.1587662], [40.85369895, -74.11430665], [40.85492446, -74.1165491], [40.816129, -74.21840954], [40.85785364, -74.14799452], [40.86400572, -74.10393717], [40.85785364, -74.14799452], [40.87218789, -74.11272947], [40.88046, -74.11724], [40.80618073, -74.10409776], [40.80618073, -74.10409776], [40.85155841, -74.14161271], [40.81455627, -74.21964169], [40.88742755, -74.13846282], [40.87218789, -74.11272947], [40.80978012, -74.25941467], [40.85785364, -74.14799452], [40.85785364, -74.14799452], [40.85155841, -74.14161271], [40.80618073, -74.10409776], [40.88742755, -74.13846282], [40.85785364, -74.14799452], [40.824655, -74.098628], [40.85785364, -74.14799452], [40.85155841, -74.14161271], [40.84027631, -74.10087439], [40.88742755, -74.13846282], [40.816129, -74.21840954], [40.85785364, -74.14799452], [40.86459243, -74.15950586], [40.85785364, -74.14799452], [40.85155841, -74.14161271], [40.80618073, -74.10409776], [40.88742755, -74.13846282], [40.85785364, -74.14799452], [40.85155841, -74.14161271], [40.80618073, -74.10409776], [40.85801019, -74.14769961], [40.85785364, -74.14799452], [40.85785364, -74.14799452], [40.82530613, -74.13810253], [40.85785364, -74.14799452], [40.80946597, -74.13722875], [40.85292043, -74.17414365], [40.85785364, -74.14799452], [40.87056442, -74.10542839], [40.85785364, -74.14799452], [40.85155841, -74.14161271], [40.85785364, -74.14799452], [40.85408634, -74.13833588], [40.86400572, -74.10393717], [40.85408634, -74.13833588], [40.80618073, -74.10409776], [40.85155841, -74.14161271], [40.85785364, -74.14799452], [40.85801019, -74.14769961], [40.82530613, -74.13810253], [40.85785364, -74.14799452], [40.85155841, -74.14161271], [40.85785364, -74.14799452], [40.85408634, -74.13833588], [40.861213, -74.12160158], [40.85785364, -74.14799452], [40.84168553, -74.15985525], [40.80978012, -74.25941467], [40.84168553, -74.15985525], [40.80978012, -74.25941467], [40.816129, -74.21840954], [40.80618073, -74.10409776], [40.85408634, -74.13833588], [40.85785364, -74.14799452], [40.85785364, -74.14799452], [40.85610654, -74.14507908], [40.84168553, -74.15985525], [40.80978012, -74.25941467], [40.80978012, -74.25941467], [40.80618073, -74.10409776], [40.85785364, -74.14799452], [40.85785364, -74.14799452], [40.85155841, -74.14161271], [40.85785364, -74.14799452], [40.84168553, -74.15985525], [40.85785364, -74.14799452], [40.85801019, -74.14769961], [40.85785364, -74.14799452], [40.85408634, -74.13833588], [40.85785364, -74.14799452], [40.85155841, -74.14161271], [40.85785364, -74.14799452], [40.87218789, -74.11272947], [40.88742755, -74.13846282], [40.85155841, -74.14161271], [40.82530613, -74.13810253], [40.85785364, -74.14799452], [40.88742755, -74.13846282], [40.85785364, -74.14799452], [40.87218789, -74.11272947], [40.85785364, -74.14799452], [40.85155841, -74.14161271], [40.87056442, -74.10542839], [40.85785364, -74.14799452], [40.85155841, -74.14161271], [40.745213, -74.034547], [40.85785364, -74.14799452], [40.85785364, -74.14799452], [40.85408634, -74.13833588], [40.85155841, -74.14161271], [40.942867, -74.14047181], [40.94112463, -74.14186215], [40.87218789, -74.11272947], [40.88742755, -74.13846282], [40.816129, -74.21840954], [40.88742755, -74.13846282], [40.85785364, -74.14799452], [40.85155841, -74.14161271], [40.87218789, -74.11272947], [40.85785364, -74.14799452], [40.85408634, -74.13833588], [40.816129, -74.21840954], [40.85801019, -74.14769961], [40.85785364, -74.14799452], [40.85801019, -74.14769961], [40.88838298, -74.11188066], [40.87218789, -74.11272947], [40.85801019, -74.14769961], [40.85785364, -74.14799452], [40.87056442, -74.10542839], [40.85785364, -74.14799452], [40.85785364, -74.14799452], [40.87056442, -74.10542839], [40.85785364, -74.14799452], [40.827748, -74.104253], [40.87056442, -74.10542839], [40.86400572, -74.10393717], [40.85801019, -74.14769961], [40.85785364, -74.14799452]],\n",
              "                {&quot;bubblingMouseEvents&quot;: true, &quot;color&quot;: &quot;black&quot;, &quot;dashArray&quot;: null, &quot;dashOffset&quot;: null, &quot;fill&quot;: false, &quot;fillColor&quot;: &quot;black&quot;, &quot;fillOpacity&quot;: 0.2, &quot;fillRule&quot;: &quot;evenodd&quot;, &quot;lineCap&quot;: &quot;round&quot;, &quot;lineJoin&quot;: &quot;round&quot;, &quot;noClip&quot;: false, &quot;opacity&quot;: 1.0, &quot;smoothFactor&quot;: 1.0, &quot;stroke&quot;: true, &quot;weight&quot;: 2}\n",
              "            ).addTo(map_8a43a2f86a83ae3b1f82d7c4cf265bb3);\n",
              "        \n",
              "&lt;/script&gt;\n",
              "&lt;/html&gt;\" style=\"position:absolute;width:100%;height:100%;left:0;top:0;border:none !important;\" allowfullscreen webkitallowfullscreen mozallowfullscreen></iframe></div></div>"
            ]
          },
          "metadata": {},
          "execution_count": 144
        }
      ]
    }
  ]
}